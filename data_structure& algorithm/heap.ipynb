{
 "cells": [
  {
   "cell_type": "code",
   "execution_count": 1,
   "id": "fallen-gazette",
   "metadata": {},
   "outputs": [],
   "source": [
    "# 힙\n",
    "# 완전 이진 트리\n",
    "# 최대값과 최소값을 빠르게 찾기 위함\n",
    "# 자식 노드보다 크거나 같거나 - 최대힙\n",
    "# 반대는 최소힙"
   ]
  },
  {
   "cell_type": "code",
   "execution_count": 2,
   "id": "cubic-torture",
   "metadata": {},
   "outputs": [],
   "source": [
    "# 배열로 표현 가능"
   ]
  },
  {
   "cell_type": "code",
   "execution_count": 5,
   "id": "suspended-discussion",
   "metadata": {},
   "outputs": [],
   "source": [
    "class Heap:\n",
    "    def __init__(self, data):\n",
    "        self.heap_array = []\n",
    "        self.heap_array.append(None)\n",
    "        self.heap_array.append(data)\n",
    "        \n",
    "    def insert(self, data):\n",
    "        if len(self.heap_array) == 0:\n",
    "            self.heap_array.append(None)\n",
    "            self.heap_array.append(data)\n",
    "            return True\n",
    "        self.heap_array.append(data)\n",
    "        return True"
   ]
  },
  {
   "cell_type": "code",
   "execution_count": 4,
   "id": "consistent-panel",
   "metadata": {},
   "outputs": [
    {
     "data": {
      "text/plain": [
       "[None, 3]"
      ]
     },
     "execution_count": 4,
     "metadata": {},
     "output_type": "execute_result"
    }
   ],
   "source": [
    "heap = Heap(3)\n",
    "heap.heap_array"
   ]
  },
  {
   "cell_type": "code",
   "execution_count": null,
   "id": "flexible-carnival",
   "metadata": {},
   "outputs": [],
   "source": []
  }
 ],
 "metadata": {
  "kernelspec": {
   "display_name": "Python 3",
   "language": "python",
   "name": "python3"
  },
  "language_info": {
   "codemirror_mode": {
    "name": "ipython",
    "version": 3
   },
   "file_extension": ".py",
   "mimetype": "text/x-python",
   "name": "python",
   "nbconvert_exporter": "python",
   "pygments_lexer": "ipython3",
   "version": "3.7.10"
  }
 },
 "nbformat": 4,
 "nbformat_minor": 5
}
