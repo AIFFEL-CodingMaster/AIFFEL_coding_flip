{
 "cells": [
  {
   "cell_type": "code",
   "execution_count": 2,
   "metadata": {},
   "outputs": [],
   "source": [
    "# BST 의 왼쪽 값은 항상 노드보다는 작은 값을가지고 오른쪽은 큰 값을 가짐"
   ]
  },
  {
   "cell_type": "code",
   "execution_count": 31,
   "metadata": {},
   "outputs": [],
   "source": [
    "class Node:\n",
    "    def __init__(self, value):\n",
    "        self.value = value\n",
    "        self.left = None\n",
    "        self.right = None"
   ]
  },
  {
   "cell_type": "code",
   "execution_count": 110,
   "metadata": {},
   "outputs": [],
   "source": [
    "class BinarySearchTree:\n",
    "    def __init__(self, head):\n",
    "        self.head = head\n",
    "    \n",
    "    def insert(self, insert_value):\n",
    "        # 현재 노드 위치\n",
    "        current_node = self.head\n",
    "        while True:\n",
    "            # 삽입한 밸류가 현재 노드의 밸류보다 작으면 왼쪽으로 가자\n",
    "            if insert_value < current_node.value:\n",
    "                # 그런데 왼쪽에 브랜치가 비어있지 않으면 현재 노드를 왼쪽 브랜치로 바꿔주고 다시 돌자\n",
    "                if current_node.left != None:\n",
    "                    current_node = current_node.left\n",
    "                else:\n",
    "                    # 비어있다면 왼쪽에 밸류를 넣어주면 된다\n",
    "                    current_node.left = Node(insert_value)\n",
    "                    break\n",
    "            else:\n",
    "                # 삽입한 밸류가 현재 노도의 밸류보다 크면 오른쪽으로 가자\n",
    "                # 오른쪽이 비어있지 않다면 현재 노드를 오른쪽으로 바꿔주고 다시 돌자링\n",
    "                if current_node.right != None:\n",
    "                    current_node = current_node.right\n",
    "                else:\n",
    "                    # 비어있다면 오른쪽에다가 넣어주면 됨\n",
    "                    current_node.right = Node(insert_value)\n",
    "                    break\n",
    "    \n",
    "    def search(self, search_value):\n",
    "        current_node = self.head\n",
    "        level = 0 \n",
    "        left = 0 \n",
    "        right = 0\n",
    "        while current_node:\n",
    "            if current_node.value == search_value:\n",
    "                return True, level ,left, right\n",
    "            elif search_value < current_node.value:\n",
    "                current_node = current_node.left\n",
    "                level += 1\n",
    "                left += 1\n",
    "                print(\"<-\")\n",
    "            else:\n",
    "                current_node = current_node.right\n",
    "                level += 1\n",
    "                right += 1\n",
    "                print(\"->\")\n",
    "        return False, level ,left, right"
   ]
  },
  {
   "cell_type": "code",
   "execution_count": 116,
   "metadata": {},
   "outputs": [],
   "source": [
    "head = Node(10)"
   ]
  },
  {
   "cell_type": "code",
   "execution_count": 117,
   "metadata": {},
   "outputs": [],
   "source": [
    "BST = BinarySearchTree(head)"
   ]
  },
  {
   "cell_type": "code",
   "execution_count": 118,
   "metadata": {},
   "outputs": [],
   "source": [
    "for i in [5,9,3,12,17,15,35,32]:\n",
    "    BST.insert(i)"
   ]
  },
  {
   "cell_type": "code",
   "execution_count": 119,
   "metadata": {},
   "outputs": [
    {
     "name": "stdout",
     "output_type": "stream",
     "text": [
      "<-\n",
      "<-\n"
     ]
    },
    {
     "data": {
      "text/plain": [
       "(True, 2, 2, 0)"
      ]
     },
     "execution_count": 119,
     "metadata": {},
     "output_type": "execute_result"
    }
   ],
   "source": [
    "BST.search(3)"
   ]
  },
  {
   "cell_type": "code",
   "execution_count": 120,
   "metadata": {},
   "outputs": [
    {
     "name": "stdout",
     "output_type": "stream",
     "text": [
      "->\n",
      "->\n",
      "->\n",
      "<-\n"
     ]
    },
    {
     "data": {
      "text/plain": [
       "(True, 4, 1, 3)"
      ]
     },
     "execution_count": 120,
     "metadata": {},
     "output_type": "execute_result"
    }
   ],
   "source": [
    "BST.search(32)"
   ]
  },
  {
   "cell_type": "code",
   "execution_count": null,
   "metadata": {},
   "outputs": [],
   "source": []
  }
 ],
 "metadata": {
  "kernelspec": {
   "display_name": "Python 3",
   "language": "python",
   "name": "python3"
  },
  "language_info": {
   "codemirror_mode": {
    "name": "ipython",
    "version": 3
   },
   "file_extension": ".py",
   "mimetype": "text/x-python",
   "name": "python",
   "nbconvert_exporter": "python",
   "pygments_lexer": "ipython3",
   "version": "3.7.10"
  }
 },
 "nbformat": 4,
 "nbformat_minor": 4
}
