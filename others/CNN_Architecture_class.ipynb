{
  "nbformat": 4,
  "nbformat_minor": 0,
  "metadata": {
    "colab": {
      "name": "CNN_Architecture_class.ipynb",
      "provenance": [],
      "collapsed_sections": []
    },
    "kernelspec": {
      "name": "python3",
      "display_name": "Python 3"
    }
  },
  "cells": [
    {
      "cell_type": "code",
      "metadata": {
        "id": "jpwixhHYhECG"
      },
      "source": [
        "import tensorflow as tf\n",
        "from tensorflow import keras"
      ],
      "execution_count": 1,
      "outputs": []
    },
    {
      "cell_type": "code",
      "metadata": {
        "id": "_wUfqFMihTjl"
      },
      "source": [
        "# 딱히 좋은 코드는 아니지만 \n",
        "# 대충 만들어보면 이런식으로 사용할 수 있음\n",
        "class CNNArchitecture:\n",
        "    model_parameters = {\n",
        "            'input_shape': (224, 224, 3),\n",
        "            'include_top': False,\n",
        "            'weights': 'imagenet',\n",
        "    }\n",
        "\n",
        "    def __init__(self, arc_name):\n",
        "        self.arc_name = arc_name\n",
        "        \n",
        "        if self.arc_name == \"VGG16\":\n",
        "            self.model = keras.applications.VGG16(**self.model_parameters)\n",
        "        elif self.arc_name == \"VGG19\":\n",
        "            self.model = keras.applications.VGG19(**self.model_parameters)\n",
        "        elif self.arc_name == \"Mobilenet\":\n",
        "            self.model = keras.applications.MobileNet(**self.model_parameters)\n",
        "        elif self.arc_name == \"MobilenetV2\":\n",
        "            self.model = keras.applications.MobileNetV2(**self.model_parameters)\n",
        "        elif self.arc_name == \"ResNet50\":\n",
        "            self.model = keras.applications.ResNet50(**self.model_parameters)\n",
        "        else:\n",
        "            raise ValueError(f\"I don't have {self.arc_name}\")\n",
        "        \n",
        "    @staticmethod\n",
        "    def add_flatten_layer():\n",
        "        flatten_layer = keras.layers.Flatten()\n",
        "        return flatten_layer\n",
        "    \n",
        "    @staticmethod\n",
        "    def add_dense_layer(nums, activation_function):\n",
        "        dense_layer = keras.layers.Dense(nums, activation=activation_function)\n",
        "        return dense_layer\n",
        "    \n",
        "    def make_model(self, *args):\n",
        "        model = keras.Sequential(\n",
        "            [self.model] + [ layer for layer in args]\n",
        "        )\n",
        "        return model"
      ],
      "execution_count": 2,
      "outputs": []
    },
    {
      "cell_type": "code",
      "metadata": {
        "id": "TP1ceH6sl9PP",
        "colab": {
          "base_uri": "https://localhost:8080/"
        },
        "outputId": "475bbf72-252b-46fd-d94c-0d92f9c6f675"
      },
      "source": [
        "resnet50 = CNNArchitecture(\"ResNet50\")"
      ],
      "execution_count": 3,
      "outputs": [
        {
          "output_type": "stream",
          "text": [
            "Downloading data from https://storage.googleapis.com/tensorflow/keras-applications/resnet/resnet50_weights_tf_dim_ordering_tf_kernels_notop.h5\n",
            "94773248/94765736 [==============================] - 1s 0us/step\n"
          ],
          "name": "stdout"
        }
      ]
    },
    {
      "cell_type": "code",
      "metadata": {
        "id": "fMxCnPu8mG-p"
      },
      "source": [
        "flatten = CNNArchitecture.add_flatten_layer()"
      ],
      "execution_count": 4,
      "outputs": []
    },
    {
      "cell_type": "code",
      "metadata": {
        "id": "QcNVOtCimNLK"
      },
      "source": [
        "dense = CNNArchitecture.add_dense_layer(512, 'relu')"
      ],
      "execution_count": 5,
      "outputs": []
    },
    {
      "cell_type": "code",
      "metadata": {
        "id": "SEaEK1RCoPb8"
      },
      "source": [
        "model = resnet50.make_model(flatten, dense)"
      ],
      "execution_count": 6,
      "outputs": []
    },
    {
      "cell_type": "code",
      "metadata": {
        "colab": {
          "base_uri": "https://localhost:8080/"
        },
        "id": "BP5bDPZ0Liy0",
        "outputId": "10d9525a-10a5-4a59-92de-6e0e9d4d0e38"
      },
      "source": [
        "model.summary()"
      ],
      "execution_count": 7,
      "outputs": [
        {
          "output_type": "stream",
          "text": [
            "Model: \"sequential\"\n",
            "_________________________________________________________________\n",
            "Layer (type)                 Output Shape              Param #   \n",
            "=================================================================\n",
            "resnet50 (Functional)        (None, 7, 7, 2048)        23587712  \n",
            "_________________________________________________________________\n",
            "flatten (Flatten)            (None, 100352)            0         \n",
            "_________________________________________________________________\n",
            "dense (Dense)                (None, 512)               51380736  \n",
            "=================================================================\n",
            "Total params: 74,968,448\n",
            "Trainable params: 74,915,328\n",
            "Non-trainable params: 53,120\n",
            "_________________________________________________________________\n"
          ],
          "name": "stdout"
        }
      ]
    }
  ]
}