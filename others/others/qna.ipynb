{
 "cells": [
  {
   "cell_type": "code",
   "execution_count": 1,
   "metadata": {},
   "outputs": [],
   "source": [
    "#226. 입력 문자열을 한 줄에 다섯글자씩 출력하는 print_5xn(string) 함수를 작성하라.\n",
    "\n",
    "def print_5xn(string):\n",
    "    strings = list(map(lambda x : x[0], string))\n",
    "    how_many_lines = (len(strings) // 5) + 1\n",
    "    \n",
    "    print(\"\".join(strings[:5]))\n",
    "    for i in range(1, how_many_lines):\n",
    "        print(\"\".join(strings[5*i:5+5*i]))"
   ]
  },
  {
   "cell_type": "code",
   "execution_count": 2,
   "metadata": {},
   "outputs": [],
   "source": [
    "a = \"가가가가가가가가가가가가가가가가가가가가가가가가가가가가가가가가가가가가가가가가가가가가가가가가가가가가가가가가\""
   ]
  },
  {
   "cell_type": "code",
   "execution_count": 3,
   "metadata": {},
   "outputs": [
    {
     "name": "stdout",
     "output_type": "stream",
     "text": [
      "가가가가가\n",
      "가가가가가\n",
      "가가가가가\n",
      "가가가가가\n",
      "가가가가가\n",
      "가가가가가\n",
      "가가가가가\n",
      "가가가가가\n",
      "가가가가가\n",
      "가가가가가\n",
      "가가가가가\n",
      "가\n"
     ]
    }
   ],
   "source": [
    "print_5xn(a)"
   ]
  }
 ],
 "metadata": {
  "kernelspec": {
   "display_name": "Python 3",
   "language": "python",
   "name": "python3"
  },
  "language_info": {
   "codemirror_mode": {
    "name": "ipython",
    "version": 3
   },
   "file_extension": ".py",
   "mimetype": "text/x-python",
   "name": "python",
   "nbconvert_exporter": "python",
   "pygments_lexer": "ipython3",
   "version": "3.8.5"
  }
 },
 "nbformat": 4,
 "nbformat_minor": 4
}
