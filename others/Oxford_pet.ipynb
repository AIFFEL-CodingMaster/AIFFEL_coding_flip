{
 "cells": [
  {
   "cell_type": "code",
   "execution_count": 1,
   "id": "thermal-interpretation",
   "metadata": {},
   "outputs": [],
   "source": [
    "import os\n",
    "import re\n",
    "from glob import glob\n",
    "\n",
    "import tensorflow as tf\n",
    "from tensorflow import keras\n",
    "import tensorflow.experimental.numpy as np\n",
    "# import numpy as np \n",
    "\n",
    "from PIL import Image\n",
    "import matplotlib.pyplot as plt"
   ]
  },
  {
   "cell_type": "code",
   "execution_count": null,
   "id": "advance-approval",
   "metadata": {},
   "outputs": [],
   "source": [
    "!pip install pillow"
   ]
  },
  {
   "cell_type": "code",
   "execution_count": 6,
   "id": "mechanical-finish",
   "metadata": {},
   "outputs": [
    {
     "data": {
      "text/plain": [
       "'/Users/jmc/Minchae/coding_master/contents/visions'"
      ]
     },
     "execution_count": 6,
     "metadata": {},
     "output_type": "execute_result"
    }
   ],
   "source": [
    "os.getcwd()"
   ]
  },
  {
   "cell_type": "code",
   "execution_count": 7,
   "id": "artificial-complexity",
   "metadata": {},
   "outputs": [
    {
     "data": {
      "text/plain": [
       "7393"
      ]
     },
     "execution_count": 7,
     "metadata": {},
     "output_type": "execute_result"
    }
   ],
   "source": [
    "# 데이터 로드 \n",
    "data_path = os.path.join(\"images\", \"*\")\n",
    "data_list = glob(data_path)\n",
    "len(data_list)"
   ]
  },
  {
   "cell_type": "code",
   "execution_count": 8,
   "id": "exclusive-indiana",
   "metadata": {},
   "outputs": [
    {
     "data": {
      "text/plain": [
       "'images/Egyptian_Mau_167.jpg'"
      ]
     },
     "execution_count": 8,
     "metadata": {},
     "output_type": "execute_result"
    }
   ],
   "source": [
    "data_list[0]"
   ]
  },
  {
   "cell_type": "code",
   "execution_count": 11,
   "id": "duplicate-bahrain",
   "metadata": {},
   "outputs": [],
   "source": [
    "# 확장자 확인\n",
    "file_extension = []\n",
    "for data in data_list:\n",
    "    basename = os.path.basename(data)\n",
    "    _, file =  basename.split(\".\")\n",
    "    \n",
    "    if file in file_extension:\n",
    "        continue\n",
    "    else:\n",
    "        file_extension.append(file)"
   ]
  },
  {
   "cell_type": "code",
   "execution_count": 12,
   "id": "checked-stereo",
   "metadata": {},
   "outputs": [
    {
     "data": {
      "text/plain": [
       "['jpg', 'mat']"
      ]
     },
     "execution_count": 12,
     "metadata": {},
     "output_type": "execute_result"
    }
   ],
   "source": [
    "file_extension"
   ]
  },
  {
   "cell_type": "code",
   "execution_count": 13,
   "id": "human-interface",
   "metadata": {},
   "outputs": [],
   "source": [
    "for i, data in enumerate(data_list):\n",
    "    basename = os.path.basename(data)\n",
    "    _, file = basename.split(\".\")\n",
    "    \n",
    "    if file == \"mat\":\n",
    "        del data_list[i]"
   ]
  },
  {
   "cell_type": "code",
   "execution_count": 14,
   "id": "electoral-boundary",
   "metadata": {},
   "outputs": [
    {
     "data": {
      "text/plain": [
       "7390"
      ]
     },
     "execution_count": 14,
     "metadata": {},
     "output_type": "execute_result"
    }
   ],
   "source": [
    "# 3개가 줄었습니다\n",
    "len(data_list)"
   ]
  },
  {
   "cell_type": "code",
   "execution_count": 15,
   "id": "separate-utilization",
   "metadata": {},
   "outputs": [],
   "source": [
    "# channel 수 확인\n",
    "# 3채널이 있을 수 있고 흑백 1채널, 4채널도 있을 수 있음\n",
    "# 방법 1 : 4채널을 3채널 바꾸거나\n",
    "# 방법 2 : 4채널을 지우거나\n",
    "for i, data in enumerate(data_list):\n",
    "    image_data = Image.open(data)\n",
    "    mode = image_data.mode\n",
    "    \n",
    "    if mode != \"RGB\":\n",
    "        del data_list[i]"
   ]
  },
  {
   "cell_type": "code",
   "execution_count": 16,
   "id": "expensive-appointment",
   "metadata": {},
   "outputs": [
    {
     "data": {
      "text/plain": [
       "7378"
      ]
     },
     "execution_count": 16,
     "metadata": {},
     "output_type": "execute_result"
    }
   ],
   "source": [
    "# 12개 줄었음\n",
    "# 전체에서 15개 줄었음\n",
    "len(data_list)"
   ]
  },
  {
   "cell_type": "code",
   "execution_count": 17,
   "id": "composite-mirror",
   "metadata": {},
   "outputs": [
    {
     "data": {
      "text/plain": [
       "['images/pug_52.jpg',\n",
       " 'images/basset_hound_112.jpg',\n",
       " 'images/Siamese_193.jpg',\n",
       " 'images/shiba_inu_122.jpg',\n",
       " 'images/Siamese_53.jpg',\n",
       " 'images/Birman_167.jpg',\n",
       " 'images/leonberger_6.jpg',\n",
       " 'images/Siamese_47.jpg',\n",
       " 'images/shiba_inu_136.jpg',\n",
       " 'images/saint_bernard_139.jpg']"
      ]
     },
     "execution_count": 17,
     "metadata": {},
     "output_type": "execute_result"
    }
   ],
   "source": [
    "data_list[:10]"
   ]
  },
  {
   "cell_type": "code",
   "execution_count": 21,
   "id": "immune-audio",
   "metadata": {},
   "outputs": [],
   "source": [
    "# 방법 1\n",
    "class_list = []\n",
    "for data in data_list:\n",
    "    basename = os.path.basename(data)\n",
    "    label = os.path.splitext(basename)[0]\n",
    "    \n",
    "    label = re.sub(\"_\\d+\", \"\", label)\n",
    "    \n",
    "    if label in class_list:\n",
    "        continue\n",
    "    else:\n",
    "        class_list.append(label)"
   ]
  },
  {
   "cell_type": "code",
   "execution_count": 22,
   "id": "conditional-stylus",
   "metadata": {},
   "outputs": [],
   "source": [
    "# 방법 2\n",
    "class_list = []\n",
    "for data in data_list:\n",
    "    basename = os.path.basename(data)\n",
    "    label = os.path.splitext(basename)[0]\n",
    "    \n",
    "    label = re.sub(\"_\\d+\", \"\", label)\n",
    "    \n",
    "    class_list.append(label)"
   ]
  },
  {
   "cell_type": "code",
   "execution_count": 28,
   "id": "heard-shaft",
   "metadata": {},
   "outputs": [],
   "source": [
    "class_list = list(set(class_list))"
   ]
  },
  {
   "cell_type": "code",
   "execution_count": 29,
   "id": "formed-cruise",
   "metadata": {},
   "outputs": [
    {
     "data": {
      "text/plain": [
       "37"
      ]
     },
     "execution_count": 29,
     "metadata": {},
     "output_type": "execute_result"
    }
   ],
   "source": [
    "len(class_list)"
   ]
  },
  {
   "cell_type": "code",
   "execution_count": 30,
   "id": "exposed-bristol",
   "metadata": {},
   "outputs": [],
   "source": [
    "class_to_index = { cls : i  for i, cls in enumerate(class_list) }"
   ]
  },
  {
   "cell_type": "code",
   "execution_count": 31,
   "id": "different-shock",
   "metadata": {
    "scrolled": true
   },
   "outputs": [
    {
     "data": {
      "text/plain": [
       "{'havanese': 0,\n",
       " 'leonberger': 1,\n",
       " 'japanese_chin': 2,\n",
       " 'Maine_Coon': 3,\n",
       " 'beagle': 4,\n",
       " 'basset_hound': 5,\n",
       " 'keeshond': 6,\n",
       " 'Abyssinian': 7,\n",
       " 'staffordshire_bull_terrier': 8,\n",
       " 'american_bulldog': 9,\n",
       " 'Ragdoll': 10,\n",
       " 'newfoundland': 11,\n",
       " 'Bengal': 12,\n",
       " 'chihuahua': 13,\n",
       " 'shiba_inu': 14,\n",
       " 'Persian': 15,\n",
       " 'Birman': 16,\n",
       " 'pomeranian': 17,\n",
       " 'great_pyrenees': 18,\n",
       " 'wheaten_terrier': 19,\n",
       " 'Egyptian_Mau': 20,\n",
       " 'boxer': 21,\n",
       " 'British_Shorthair': 22,\n",
       " 'samoyed': 23,\n",
       " 'saint_bernard': 24,\n",
       " 'Siamese': 25,\n",
       " 'english_cocker_spaniel': 26,\n",
       " 'Bombay': 27,\n",
       " 'german_shorthaired': 28,\n",
       " 'Russian_Blue': 29,\n",
       " 'american_pit_bull_terrier': 30,\n",
       " 'pug': 31,\n",
       " 'scottish_terrier': 32,\n",
       " 'yorkshire_terrier': 33,\n",
       " 'english_setter': 34,\n",
       " 'Sphynx': 35,\n",
       " 'miniature_pinscher': 36}"
      ]
     },
     "execution_count": 31,
     "metadata": {},
     "output_type": "execute_result"
    }
   ],
   "source": [
    "class_to_index"
   ]
  },
  {
   "cell_type": "code",
   "execution_count": null,
   "id": "isolated-fifteen",
   "metadata": {},
   "outputs": [],
   "source": []
  }
 ],
 "metadata": {
  "kernelspec": {
   "display_name": "cv_env",
   "language": "python",
   "name": "cv_env"
  },
  "language_info": {
   "codemirror_mode": {
    "name": "ipython",
    "version": 3
   },
   "file_extension": ".py",
   "mimetype": "text/x-python",
   "name": "python",
   "nbconvert_exporter": "python",
   "pygments_lexer": "ipython3",
   "version": "3.7.10"
  }
 },
 "nbformat": 4,
 "nbformat_minor": 5
}
