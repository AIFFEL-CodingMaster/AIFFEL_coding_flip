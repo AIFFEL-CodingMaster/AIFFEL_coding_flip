{
 "cells": [
  {
   "cell_type": "markdown",
   "metadata": {},
   "source": [
    "# 공장\n",
    "* 속성 : 종류, 규모\n",
    "* 기능 : 생산, 포장"
   ]
  },
  {
   "cell_type": "code",
   "execution_count": 5,
   "metadata": {},
   "outputs": [],
   "source": [
    "class Factory:\n",
    "    \n",
    "    def __init__(self, kind, size):\n",
    "        self.kind = kind\n",
    "        self.size = size\n",
    "        \n",
    "    def make_production(self, what):\n",
    "        what = [what] * self.size\n",
    "        print(f\"{self.kind} 공장에서 생산을 합니다\")\n",
    "        return what\n",
    "    \n",
    "    def make_packing(self, what):\n",
    "        packing = { i:j for i, j in enumerate(what) }\n",
    "        print(f\"{self.kind} 포장을 합니다\")\n",
    "        return packing"
   ]
  },
  {
   "cell_type": "code",
   "execution_count": 6,
   "metadata": {},
   "outputs": [],
   "source": [
    "ice_cream_factory = Factory(\"아이스크림\", 10)"
   ]
  },
  {
   "cell_type": "code",
   "execution_count": 8,
   "metadata": {},
   "outputs": [
    {
     "name": "stdout",
     "output_type": "stream",
     "text": [
      "아이스크림 공장에서 생산을 합니다\n"
     ]
    }
   ],
   "source": [
    "screw_bar = ice_cream_factory.make_production([\"스크류바\"])"
   ]
  },
  {
   "cell_type": "code",
   "execution_count": 9,
   "metadata": {},
   "outputs": [
    {
     "name": "stdout",
     "output_type": "stream",
     "text": [
      "아이스크림 포장을 합니다\n"
     ]
    }
   ],
   "source": [
    "packing_screw_bar = ice_cream_factory.make_packing(screw_bar)"
   ]
  },
  {
   "cell_type": "code",
   "execution_count": 10,
   "metadata": {},
   "outputs": [
    {
     "data": {
      "text/plain": [
       "{0: ['스크류바'],\n",
       " 1: ['스크류바'],\n",
       " 2: ['스크류바'],\n",
       " 3: ['스크류바'],\n",
       " 4: ['스크류바'],\n",
       " 5: ['스크류바'],\n",
       " 6: ['스크류바'],\n",
       " 7: ['스크류바'],\n",
       " 8: ['스크류바'],\n",
       " 9: ['스크류바']}"
      ]
     },
     "execution_count": 10,
     "metadata": {},
     "output_type": "execute_result"
    }
   ],
   "source": [
    "packing_screw_bar"
   ]
  },
  {
   "cell_type": "markdown",
   "metadata": {},
   "source": [
    "# 모두의 연구소\n",
    "* 속성 \n",
    "    * 풀잎스쿨\n",
    "    * 랩\n",
    "    * AIFFEL\n",
    "* 기능\n",
    "    * 풀잎스쿨모집\n",
    "    * 랩모집\n",
    "    * AIFFEL모집"
   ]
  },
  {
   "cell_type": "code",
   "execution_count": 39,
   "metadata": {},
   "outputs": [],
   "source": [
    "class Modulabs:\n",
    "    풀잎스쿨 = True\n",
    "    랩 = True\n",
    "    AIFFEL = True\n",
    "    풀잎멤버 = {}\n",
    "    랩멤버 = {}\n",
    "    AIFFEL멤버 = {}\n",
    "    \n",
    "    def 풀잎스쿨모집(self, name, member):\n",
    "        if self.풀잎스쿨 is False:\n",
    "            print(\"풀잎스쿨 모집기간이 아닙니다\")\n",
    "            while True:\n",
    "                yes_or_no = input(\"풀잎스쿨을 오픈하시겠습니까? : (y or n) \")\n",
    "                if yes_or_no == \"y\":\n",
    "                    print(\"풀잎스쿨 오픈\")\n",
    "                    self.풀잎스쿨 = True\n",
    "                    break\n",
    "                elif yes_or_no ==\"n\":\n",
    "                    print(\"풀잎스쿨 오픈 안함\")\n",
    "                    break\n",
    "        else:\n",
    "            if isinstance(member, list) is False:\n",
    "                raise ValueError(\"List 로 입력해주세요\")\n",
    "                \n",
    "            self.풀잎멤버[name] = member            \n",
    "        return self.풀잎멤버\n",
    "    \n",
    "    def 풀잎스쿨마감(self):\n",
    "        self.풀잎스쿨 = False\n",
    "        \n",
    "    def 랩모집(self):\n",
    "        pass\n",
    "    \n",
    "    def 랩마감(self):\n",
    "        self.랩 = False\n",
    "    \n",
    "    def AIFFEL모집(self):\n",
    "        pass\n",
    "    \n",
    "    def AIFFEL마감(self):\n",
    "        self.AIFFEL = False"
   ]
  },
  {
   "cell_type": "code",
   "execution_count": 40,
   "metadata": {},
   "outputs": [],
   "source": [
    "modulabs = Modulabs()"
   ]
  },
  {
   "cell_type": "code",
   "execution_count": 41,
   "metadata": {},
   "outputs": [
    {
     "data": {
      "text/plain": [
       "True"
      ]
     },
     "execution_count": 41,
     "metadata": {},
     "output_type": "execute_result"
    }
   ],
   "source": [
    "modulabs.풀잎스쿨"
   ]
  },
  {
   "cell_type": "code",
   "execution_count": 42,
   "metadata": {},
   "outputs": [
    {
     "data": {
      "text/plain": [
       "{}"
      ]
     },
     "execution_count": 42,
     "metadata": {},
     "output_type": "execute_result"
    }
   ],
   "source": [
    "modulabs.풀잎멤버"
   ]
  },
  {
   "cell_type": "code",
   "execution_count": 43,
   "metadata": {},
   "outputs": [],
   "source": [
    "풀잎스쿨 = modulabs.풀잎스쿨모집(\"코딩마스터\", [\"정민채\"])"
   ]
  },
  {
   "cell_type": "code",
   "execution_count": 44,
   "metadata": {},
   "outputs": [
    {
     "data": {
      "text/plain": [
       "{'코딩마스터': ['정민채']}"
      ]
     },
     "execution_count": 44,
     "metadata": {},
     "output_type": "execute_result"
    }
   ],
   "source": [
    "풀잎스쿨"
   ]
  },
  {
   "cell_type": "code",
   "execution_count": null,
   "metadata": {},
   "outputs": [],
   "source": [
    "# 풀잎스쿨멤버를 추가하는 메소드를 만들어볼까요?"
   ]
  },
  {
   "cell_type": "code",
   "execution_count": null,
   "metadata": {},
   "outputs": [],
   "source": [
    "# pass로 되어있는 나머지 메소드도 만들어볼까요?"
   ]
  },
  {
   "cell_type": "markdown",
   "metadata": {},
   "source": [
    "# 판다스 전처리 툴 클래스\n",
    "* 속성 : 데이터 경로\n",
    "* 기능 : na값확인, 데이터 head  & tail & shape 같이 보기, "
   ]
  },
  {
   "cell_type": "code",
   "execution_count": 11,
   "metadata": {},
   "outputs": [],
   "source": [
    "import pandas as pd\n",
    "class PandaTool:\n",
    "    def __init__(self, data_path):\n",
    "        self.data = pd.read_csv(data_path)\n",
    "        \n",
    "    def check_na_value(self, is_ratio=False):\n",
    "        data_ = self.data.copy()\n",
    "        if is_ratio is False:\n",
    "            na_value = data_.isna().sum()\n",
    "        else:\n",
    "            na_value = (data_.isna().sum() / len(data_)) * 100\n",
    "        return na_value\n",
    "    \n",
    "    def head_tail_shape(self):\n",
    "        print(f\"data shape : {self.shape}\")\n",
    "        display(self.data.head())\n",
    "        print()\n",
    "        display(self.data.tail())\n",
    "        \n",
    "    def string_colums(self):\n",
    "        data_ = self.data.copy()\n",
    "        data_cols = data_.columns\n",
    "        str_col = []\n",
    "        for col in data_cols:\n",
    "            if data_[col].dtypes != \"object\":\n",
    "                str_col.append(col)\n",
    "        return str_col"
   ]
  }
 ],
 "metadata": {
  "kernelspec": {
   "display_name": "aiffel",
   "language": "python",
   "name": "aiffel"
  },
  "language_info": {
   "codemirror_mode": {
    "name": "ipython",
    "version": 3
   },
   "file_extension": ".py",
   "mimetype": "text/x-python",
   "name": "python",
   "nbconvert_exporter": "python",
   "pygments_lexer": "ipython3",
   "version": "3.7.9"
  }
 },
 "nbformat": 4,
 "nbformat_minor": 4
}
