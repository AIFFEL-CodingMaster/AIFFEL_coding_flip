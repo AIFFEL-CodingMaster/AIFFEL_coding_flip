{
  "nbformat": 4,
  "nbformat_minor": 0,
  "metadata": {
    "colab": {
      "name": "deep_learning_flip_lec11.ipynb",
      "provenance": []
    },
    "kernelspec": {
      "name": "python3",
      "display_name": "Python 3"
    },
    "accelerator": "GPU"
  },
  "cells": [
    {
      "cell_type": "code",
      "metadata": {
        "id": "6cv5iFAsddYN"
      },
      "source": [
        "import tensorflow as tf\n",
        "from tensorflow.keras.applications import ResNet50\n",
        "from tensorflow.keras.datasets import cifar100"
      ],
      "execution_count": 2,
      "outputs": []
    },
    {
      "cell_type": "code",
      "metadata": {
        "colab": {
          "base_uri": "https://localhost:8080/"
        },
        "id": "JsIY5agme7Yu",
        "outputId": "6bb28f2b-5e28-415b-9547-5cb7ef1fcce2"
      },
      "source": [
        "# dataset cifar100\n",
        "(x_train, y_train), (x_test, y_test) = cifar100.load_data()"
      ],
      "execution_count": 3,
      "outputs": [
        {
          "output_type": "stream",
          "text": [
            "Downloading data from https://www.cs.toronto.edu/~kriz/cifar-100-python.tar.gz\n",
            "169009152/169001437 [==============================] - 2s 0us/step\n"
          ],
          "name": "stdout"
        }
      ]
    },
    {
      "cell_type": "code",
      "metadata": {
        "colab": {
          "base_uri": "https://localhost:8080/"
        },
        "id": "UCT3kFCyfZEN",
        "outputId": "742e070c-e996-4019-d33c-189d4d4a1792"
      },
      "source": [
        "# data shape\n",
        "print(x_train.shape)\n",
        "print(x_test.shape)\n",
        "print(y_train.shape)\n",
        "print(y_test.shape)"
      ],
      "execution_count": 4,
      "outputs": [
        {
          "output_type": "stream",
          "text": [
            "(50000, 32, 32, 3)\n",
            "(10000, 32, 32, 3)\n",
            "(50000, 1)\n",
            "(10000, 1)\n"
          ],
          "name": "stdout"
        }
      ]
    },
    {
      "cell_type": "code",
      "metadata": {
        "colab": {
          "base_uri": "https://localhost:8080/"
        },
        "id": "mteMOK8jfr3r",
        "outputId": "914508f7-e2ae-4f64-8d0a-560acffbc2ec"
      },
      "source": [
        "# type\n",
        "type(x_train)"
      ],
      "execution_count": 6,
      "outputs": [
        {
          "output_type": "execute_result",
          "data": {
            "text/plain": [
              "numpy.ndarray"
            ]
          },
          "metadata": {
            "tags": []
          },
          "execution_count": 6
        }
      ]
    },
    {
      "cell_type": "code",
      "metadata": {
        "colab": {
          "base_uri": "https://localhost:8080/"
        },
        "id": "Xf8n6R6UgBjP",
        "outputId": "e60df995-c9fc-4098-cffb-c29bab58261d"
      },
      "source": [
        "# transfer learning\n",
        "resnet50 = ResNet50(\n",
        "    include_top=False,\n",
        "    weights=\"imagenet\",\n",
        "    input_shape=(32,32,3),\n",
        "    pooling='avg'\n",
        ")"
      ],
      "execution_count": 7,
      "outputs": [
        {
          "output_type": "stream",
          "text": [
            "Downloading data from https://storage.googleapis.com/tensorflow/keras-applications/resnet/resnet50_weights_tf_dim_ordering_tf_kernels_notop.h5\n",
            "94773248/94765736 [==============================] - 1s 0us/step\n"
          ],
          "name": "stdout"
        }
      ]
    },
    {
      "cell_type": "code",
      "metadata": {
        "id": "CHnKMXM7gf1_"
      },
      "source": [
        "resnet50.summary()"
      ],
      "execution_count": null,
      "outputs": []
    },
    {
      "cell_type": "code",
      "metadata": {
        "id": "ynw-iAofl53I"
      },
      "source": [
        "dense_layer_1 = tf.keras.layers.Dense(1024, activation='relu')\n",
        "batch_norm = tf.keras.layers.BatchNormalization()\n",
        "output = tf.keras.layers.Dense(100)"
      ],
      "execution_count": 10,
      "outputs": []
    },
    {
      "cell_type": "code",
      "metadata": {
        "id": "g5v2Q9yUmwh_"
      },
      "source": [
        "model = tf.keras.Sequential([\n",
        "    resnet50, \n",
        "    dense_layer_1,\n",
        "    batch_norm,\n",
        "    output\n",
        "])"
      ],
      "execution_count": 11,
      "outputs": []
    },
    {
      "cell_type": "code",
      "metadata": {
        "id": "gBKijqwdrjGj"
      },
      "source": [
        "# epoch, lr\n",
        "def scheduler(epoch, lr):\n",
        "  if epoch < 10:\n",
        "    return lr\n",
        "  else:\n",
        "    return lr * tf.math.exp(-0.1)"
      ],
      "execution_count": 13,
      "outputs": []
    },
    {
      "cell_type": "code",
      "metadata": {
        "id": "ZQnkPDw4vgNc"
      },
      "source": [
        "linear_cosine = tf.keras.experimental.LinearCosineDecay(0.05, 1000)"
      ],
      "execution_count": 17,
      "outputs": []
    },
    {
      "cell_type": "code",
      "metadata": {
        "id": "5pG7yVusn9rU"
      },
      "source": [
        "cosine_warm_up = tf.keras.experimental.CosineDecayRestarts(0.05, 1000)"
      ],
      "execution_count": 18,
      "outputs": []
    },
    {
      "cell_type": "code",
      "metadata": {
        "id": "d2KDH8PjrNae"
      },
      "source": [
        "learning_rate_scheduler = tf.keras.callbacks.LearningRateScheduler(schedule = scheduler)"
      ],
      "execution_count": 14,
      "outputs": []
    },
    {
      "cell_type": "code",
      "metadata": {
        "id": "fKkd6nsMsIVw"
      },
      "source": [
        "early_stopping = tf.keras.callbacks.EarlyStopping(patience=5)"
      ],
      "execution_count": 15,
      "outputs": []
    },
    {
      "cell_type": "code",
      "metadata": {
        "id": "rmFl1UkIsvEM"
      },
      "source": [
        "model.compile(\n",
        "    optimizer = tf.keras.optimizers.Adam(cosine_warm_up),\n",
        "    loss = tf.keras.losses.SparseCategoricalCrossentropy(from_logits=True),\n",
        "    metrics = [\"accuracy\"]\n",
        ")"
      ],
      "execution_count": 21,
      "outputs": []
    },
    {
      "cell_type": "code",
      "metadata": {
        "colab": {
          "base_uri": "https://localhost:8080/"
        },
        "id": "-vEpwyo2xybB",
        "outputId": "048e447f-ad91-473c-ea0c-97a6646068b5"
      },
      "source": [
        "history = model.fit(\n",
        "    x_train, y_train,\n",
        "    batch_size = 128,\n",
        "    epochs=1000,\n",
        "    callbacks=[early_stopping],\n",
        "    shuffle=True,\n",
        "    validation_split=0.2,\n",
        ")"
      ],
      "execution_count": 22,
      "outputs": [
        {
          "output_type": "stream",
          "text": [
            "Epoch 1/1000\n",
            "313/313 [==============================] - 63s 79ms/step - loss: 6.6980 - accuracy: 0.0104 - val_loss: 6.7197 - val_accuracy: 0.0096\n",
            "Epoch 2/1000\n",
            "313/313 [==============================] - 22s 71ms/step - loss: 4.8127 - accuracy: 0.0133 - val_loss: 5.5063 - val_accuracy: 0.0150\n",
            "Epoch 3/1000\n",
            "313/313 [==============================] - 22s 70ms/step - loss: 4.3732 - accuracy: 0.0270 - val_loss: 4.3207 - val_accuracy: 0.0286\n",
            "Epoch 4/1000\n",
            "313/313 [==============================] - 22s 71ms/step - loss: 4.5980 - accuracy: 0.0293 - val_loss: 30.2669 - val_accuracy: 0.0104\n",
            "Epoch 5/1000\n",
            "313/313 [==============================] - 22s 71ms/step - loss: 5.4197 - accuracy: 0.0206 - val_loss: 9.1208 - val_accuracy: 0.0101\n",
            "Epoch 6/1000\n",
            "313/313 [==============================] - 22s 71ms/step - loss: 4.7190 - accuracy: 0.0316 - val_loss: 4.5315 - val_accuracy: 0.0368\n",
            "Epoch 7/1000\n",
            "313/313 [==============================] - 22s 70ms/step - loss: 4.1449 - accuracy: 0.0598 - val_loss: 11.4857 - val_accuracy: 0.0590\n",
            "Epoch 8/1000\n",
            "313/313 [==============================] - 22s 70ms/step - loss: 3.9171 - accuracy: 0.0846 - val_loss: 4.6400 - val_accuracy: 0.0936\n"
          ],
          "name": "stdout"
        }
      ]
    }
  ]
}