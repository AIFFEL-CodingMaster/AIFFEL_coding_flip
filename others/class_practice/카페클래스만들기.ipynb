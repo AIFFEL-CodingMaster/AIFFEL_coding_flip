{
 "cells": [
  {
   "cell_type": "markdown",
   "metadata": {},
   "source": [
    "# 카페\n",
    "* 속성\n",
    "    * 테이블수\n",
    "    * 메뉴판\n",
    "    * 무인\n",
    "    * 커피원두\n",
    "    * 오늘의커피\n",
    "    * 오늘의주문량\n",
    "\n",
    "* 기능\n",
    "    * 주문받기\n",
    "    * 커피만들기\n",
    "    * 완료알림"
   ]
  },
  {
   "cell_type": "code",
   "execution_count": 9,
   "metadata": {},
   "outputs": [],
   "source": [
    "class Cafe:\n",
    "    무인 = False\n",
    "    오늘의주문량 = 0\n",
    "    \n",
    "    def __init__(self, 테이블수, 메뉴판, 커피원두, 오늘의커피):\n",
    "        # 인스턴스 변수\n",
    "        self.테이블수 = 테이블수\n",
    "        self.메뉴판 = 메뉴판\n",
    "        self.커피원두 = 커피원두\n",
    "        self.오늘의커피 = 오늘의커피\n",
    "        \n",
    "    def 주문받기(self, 주문=\"아메리카노\", 샷추가=True):\n",
    "        if 주문 not in self.메뉴판:\n",
    "            raise IndexError(\"주문하신 음료가 메뉴에 없습니다\")\n",
    "        \n",
    "        else:\n",
    "            print(f\"{주문} 1잔 주문 받았습니다\")\n",
    "            self.오늘의주문량 += 1\n",
    "            if 샷추가 == True:\n",
    "                print(\"샷을 추가합니다\")\n",
    "    def 커피만들기(self):\n",
    "        print(\"커피만들기 시작\")\n",
    "        print(\"...\")\n",
    "        print(\"커피완성\")\n",
    "    \n",
    "    def 완료알림(self):\n",
    "        print(\"주문하신 음료 나왔습니다\")"
   ]
  },
  {
   "cell_type": "code",
   "execution_count": 10,
   "metadata": {},
   "outputs": [],
   "source": [
    "starbucks = Cafe(30, [\"아메리카노\", \"돌체라떼\", \"자바칩프라프치노\", \"소이라떼\", \"딸기라떼\"], [\"케냐원두\", \"예가체프\", \"에티오피아\",\"온두라스\"],\"아메리카노\")"
   ]
  },
  {
   "cell_type": "code",
   "execution_count": 11,
   "metadata": {},
   "outputs": [
    {
     "name": "stdout",
     "output_type": "stream",
     "text": [
      "False\n",
      "0\n",
      "30\n",
      "['케냐원두', '예가체프', '에티오피아', '온두라스']\n",
      "아메리카노\n",
      "['아메리카노', '돌체라떼', '자바칩프라프치노', '소이라떼', '딸기라떼']\n"
     ]
    }
   ],
   "source": [
    "print(starbucks.무인) # 클래스 변수\n",
    "print(starbucks.오늘의주문량) # 클래스 변수\n",
    "# 인스턴스 변수\n",
    "print(starbucks.테이블수)\n",
    "print(starbucks.커피원두)\n",
    "print(starbucks.오늘의커피)\n",
    "print(starbucks.메뉴판)"
   ]
  },
  {
   "cell_type": "code",
   "execution_count": 12,
   "metadata": {},
   "outputs": [
    {
     "name": "stdout",
     "output_type": "stream",
     "text": [
      "False\n",
      "0\n",
      "30\n",
      "['케냐원두', '예가체프', '에티오피아', '온두라스']\n",
      "아메리카노\n",
      "['아메리카노', '돌체라떼', '자바칩프라프치노', '소이라떼', '딸기라떼']\n"
     ]
    }
   ],
   "source": [
    "print(Cafe.무인) # 클래스 변수\n",
    "print(Cafe.오늘의주문량) # 클래스 변수\n",
    "# 인스턴스 변수\n",
    "print(starbucks.테이블수)\n",
    "print(starbucks.커피원두)\n",
    "print(starbucks.오늘의커피)\n",
    "print(starbucks.메뉴판)"
   ]
  },
  {
   "cell_type": "code",
   "execution_count": 13,
   "metadata": {},
   "outputs": [
    {
     "name": "stdout",
     "output_type": "stream",
     "text": [
      "아메리카노 1잔 주문 받았습니다\n",
      "샷을 추가합니다\n"
     ]
    }
   ],
   "source": [
    "starbucks.주문받기()"
   ]
  },
  {
   "cell_type": "code",
   "execution_count": 14,
   "metadata": {},
   "outputs": [
    {
     "name": "stdout",
     "output_type": "stream",
     "text": [
      "커피만들기 시작\n",
      "...\n",
      "커피완성\n"
     ]
    }
   ],
   "source": [
    "starbucks.커피만들기()"
   ]
  },
  {
   "cell_type": "code",
   "execution_count": 15,
   "metadata": {},
   "outputs": [
    {
     "name": "stdout",
     "output_type": "stream",
     "text": [
      "주문하신 음료 나왔습니다\n"
     ]
    }
   ],
   "source": [
    "starbucks.완료알림()"
   ]
  }
 ],
 "metadata": {
  "kernelspec": {
   "display_name": "aiffel",
   "language": "python",
   "name": "aiffel"
  },
  "language_info": {
   "codemirror_mode": {
    "name": "ipython",
    "version": 3
   },
   "file_extension": ".py",
   "mimetype": "text/x-python",
   "name": "python",
   "nbconvert_exporter": "python",
   "pygments_lexer": "ipython3",
   "version": "3.7.9"
  }
 },
 "nbformat": 4,
 "nbformat_minor": 4
}
