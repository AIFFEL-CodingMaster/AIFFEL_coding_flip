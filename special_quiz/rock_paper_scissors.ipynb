{
 "metadata": {
  "language_info": {
   "codemirror_mode": {
    "name": "ipython",
    "version": 3
   },
   "file_extension": ".py",
   "mimetype": "text/x-python",
   "name": "python",
   "nbconvert_exporter": "python",
   "pygments_lexer": "ipython3",
   "version": 3
  },
  "orig_nbformat": 2
 },
 "nbformat": 4,
 "nbformat_minor": 2,
 "cells": [
  {
   "source": [
    "# 가위 바위 보"
   ],
   "cell_type": "markdown",
   "metadata": {}
  },
  {
   "cell_type": "code",
   "execution_count": null,
   "metadata": {},
   "outputs": [],
   "source": [
    "player_1 = input(\"가위, 바위, 보 중에 하나를 입력하세요 : \")\n",
    "player_2 = input(\"가위, 바위, 보 중에 하나를 입력하세요 : \")\n",
    "\n",
    "if"
   ]
  }
 ]
}