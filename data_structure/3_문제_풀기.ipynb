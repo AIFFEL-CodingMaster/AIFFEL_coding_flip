{
 "cells": [
  {
   "cell_type": "code",
   "execution_count": null,
   "metadata": {},
   "outputs": [],
   "source": [
    "# hash_table\n",
    "# 1365. How Many Numbers Are Smaller Than the Current Number\n",
    "\n",
    "class Solution:\n",
    "    def smallerNumbersThanCurrent(self, nums: List[int]) -> List[int]:\n",
    "        hash_table={}\n",
    "        answer = []\n",
    "        # 작은 수부터 정렬\n",
    "        sorted_list = sorted(nums)\n",
    "        \n",
    "        # 첫번째 수에 인덱스 0을 주는데 첫번째 수 보다 작은 수는 없음\n",
    "        # 두번째 수에 인덱스 1을 주는데 두번째 수 보다 작은 수는 첫번째 수 뿐\n",
    "        # ...\n",
    "        for i , num in enumerate(sorted_list):\n",
    "            if num not in hash_table:\n",
    "                hash_table[num] = i\n",
    "        \n",
    "        # hash_table값을 answer에 넣어준다\n",
    "        for num in nums:\n",
    "            answer.append(hash_table[num])    \n",
    "        \n",
    "        return answer"
   ]
  },
  {
   "cell_type": "code",
   "execution_count": null,
   "metadata": {},
   "outputs": [],
   "source": [
    "# 771. Jewels and Stones\n",
    "\n",
    "class Solution:\n",
    "    def numJewelsInStones(self, jewels: str, stones: str) -> int:\n",
    "        jewel_hash_table = {}\n",
    "        answer = 0\n",
    "        \n",
    "        for i, jewel in enumerate(jewels):\n",
    "            if jewel not in jewel_hash_table.keys():\n",
    "                jewel_hash_table[jewel] = i\n",
    "        \n",
    "        for stone in stones:\n",
    "            if stone in jewel_hash_table.keys():\n",
    "                answer += 1\n",
    "        \n",
    "        return answer"
   ]
  }
 ],
 "metadata": {
  "kernelspec": {
   "display_name": "Python 3",
   "language": "python",
   "name": "python3"
  },
  "language_info": {
   "codemirror_mode": {
    "name": "ipython",
    "version": 3
   },
   "file_extension": ".py",
   "mimetype": "text/x-python",
   "name": "python",
   "nbconvert_exporter": "python",
   "pygments_lexer": "ipython3",
   "version": "3.8.5"
  }
 },
 "nbformat": 4,
 "nbformat_minor": 4
}
