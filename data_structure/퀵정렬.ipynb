{
 "cells": [
  {
   "cell_type": "markdown",
   "id": "broad-american",
   "metadata": {},
   "source": [
    "- 재귀방식(분할정복)을 통해 기준점을 중심으로 정렬하는 방법"
   ]
  },
  {
   "cell_type": "code",
   "execution_count": 2,
   "id": "naughty-quantum",
   "metadata": {},
   "outputs": [],
   "source": [
    "def quick_sort(data):\n",
    "    # 데이터가 1개 이하이면 그냥 return\n",
    "    if len(data) <= 1:\n",
    "        return data\n",
    "    \n",
    "    # pivot은 가장 앞에 있는 데이터\n",
    "    # left, right를 담을 리스트 생성\n",
    "    left, right = [], []\n",
    "    pivot = data[0]\n",
    "    \n",
    "    # 순회 시작\n",
    "    for index in range(1, len(data)):\n",
    "        # 기준 보다 작으면 왼쪽으로 삽입\n",
    "        # 기준 보다 크면 오른쪽으로 삽입\n",
    "        if pivot > data[index]:\n",
    "            left.append(data[index])\n",
    "        else:\n",
    "            right.append(data[index])\n",
    "    \n",
    "    return quick_sort(left) + [pivot] + quick_sort(right)"
   ]
  },
  {
   "cell_type": "code",
   "execution_count": 3,
   "id": "automatic-sudan",
   "metadata": {},
   "outputs": [],
   "source": [
    "def quick_sort(data):\n",
    "    \n",
    "    if len(data) <= 1:\n",
    "        return data\n",
    "    \n",
    "    pivot = data[0]\n",
    "    \n",
    "    left = [ item for item in data[1:] if pivot > item ]\n",
    "    right = [ item for item in data[1:] if pivot <= item ]\n",
    "    \n",
    "    return quick_sort(left) + [pivot] + quick_sort(right)"
   ]
  },
  {
   "cell_type": "code",
   "execution_count": 4,
   "id": "super-sharp",
   "metadata": {},
   "outputs": [],
   "source": [
    "import random"
   ]
  },
  {
   "cell_type": "code",
   "execution_count": 6,
   "id": "floppy-inventory",
   "metadata": {},
   "outputs": [],
   "source": [
    "data = random.sample(range(100), 10)"
   ]
  },
  {
   "cell_type": "code",
   "execution_count": 7,
   "id": "occupied-inside",
   "metadata": {},
   "outputs": [
    {
     "data": {
      "text/plain": [
       "[0, 1, 10, 27, 41, 42, 68, 75, 81, 95]"
      ]
     },
     "execution_count": 7,
     "metadata": {},
     "output_type": "execute_result"
    }
   ],
   "source": [
    "quick_sort(data)"
   ]
  }
 ],
 "metadata": {
  "kernelspec": {
   "display_name": "Python 3",
   "language": "python",
   "name": "python3"
  },
  "language_info": {
   "codemirror_mode": {
    "name": "ipython",
    "version": 3
   },
   "file_extension": ".py",
   "mimetype": "text/x-python",
   "name": "python",
   "nbconvert_exporter": "python",
   "pygments_lexer": "ipython3",
   "version": "3.7.10"
  }
 },
 "nbformat": 4,
 "nbformat_minor": 5
}
