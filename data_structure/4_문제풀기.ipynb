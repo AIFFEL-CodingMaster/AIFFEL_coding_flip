{
 "cells": [
  {
   "cell_type": "code",
   "execution_count": null,
   "id": "happy-swing",
   "metadata": {},
   "outputs": [],
   "source": [
    "# 1528 Shuffle String\n",
    "class Solution:\n",
    "    def restoreString(self, s: str, indices: List[int]) -> str:\n",
    "        _sort = { k:v for k,v in zip(indices, s) }\n",
    "        _keys = sorted(list(_sort.keys()))\n",
    "        \n",
    "        # _sort = {4: 'c', 5: 'o', 6: 'd', 7: 'e', 0: 'l', 2: 'e', 1: 'e', 3: 't'}\n",
    "        # _keys = [0,1,2,3,4,5,6,7]\n",
    "        \n",
    "        sorted_str = \"\"\n",
    "        for key in _keys:\n",
    "            # sorted_str = sorted_str + _sort[key]\n",
    "            sorted_str += _sort[key]\n",
    "        \n",
    "        # leetcode\n",
    "        \n",
    "        return sorted_str"
   ]
  },
  {
   "cell_type": "code",
   "execution_count": null,
   "id": "attempted-registrar",
   "metadata": {},
   "outputs": [],
   "source": [
    "# 148. Sort List\n",
    "\n",
    "# Definition for singly-linked list.\n",
    "# class ListNode:\n",
    "#     def __init__(self, val=0, next=None):\n",
    "#         self.val = val\n",
    "#         self.next = next\n",
    "class Solution:\n",
    "    def sortList(self, head: ListNode) -> ListNode:\n",
    "        node = head\n",
    "        _list = []\n",
    "        \n",
    "        while node:\n",
    "            print(node.val)\n",
    "            _list.append(node.val)\n",
    "            node = node.next\n",
    "            \n",
    "        _list = sorted(_list)\n",
    "        \n",
    "        node = head\n",
    "        for i in _list:\n",
    "            node.val = i\n",
    "            node = node.next\n",
    "        \n",
    "        return head"
   ]
  }
 ],
 "metadata": {
  "kernelspec": {
   "display_name": "Python 3",
   "language": "python",
   "name": "python3"
  },
  "language_info": {
   "codemirror_mode": {
    "name": "ipython",
    "version": 3
   },
   "file_extension": ".py",
   "mimetype": "text/x-python",
   "name": "python",
   "nbconvert_exporter": "python",
   "pygments_lexer": "ipython3",
   "version": "3.7.10"
  }
 },
 "nbformat": 4,
 "nbformat_minor": 5
}
