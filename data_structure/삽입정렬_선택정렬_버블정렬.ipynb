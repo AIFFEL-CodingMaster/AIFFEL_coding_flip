{
 "cells": [
  {
   "cell_type": "markdown",
   "id": "funky-forth",
   "metadata": {},
   "source": [
    "# 삽입정렬 \n",
    "# 2번째 데이터부터 앞에 있는 데이터와 비교하고 삽입하면서 정렬하는 방법"
   ]
  },
  {
   "cell_type": "code",
   "execution_count": 47,
   "id": "driving-position",
   "metadata": {},
   "outputs": [],
   "source": [
    "def insertion_sort(sequential_data, ascending=True):\n",
    "    \n",
    "    # 원본의 데이터를 변경하지 않기 위해 새로운 변수 만들기\n",
    "    data = sequential_data[:]\n",
    "    for i in range(len(data) -1):\n",
    "        # 2번째 인덱스부터 순회 하면서 비교\n",
    "        # 거꾸로 순회\n",
    "        for j in range(i+1, 0, -1):\n",
    "            # 오름차순 or 내림차순\n",
    "            if ascending is True:\n",
    "                # 오름차순 일 때, 왼쪽의 데이터가 오른쪽 데이터보다 크면 스왑\n",
    "                if data[j] < data[j-1]:\n",
    "                    data[j], data[j-1] = data[j-1], data[j]\n",
    "#                     print(sequential_data)\n",
    "                # 아닐 경우에는 정렬이 된 것으로 간주하고 스톱\n",
    "                else:\n",
    "                    break\n",
    "            if ascending is False:\n",
    "                # 내림차순 일 때, 왼쪽의 데이터가 오른쪽 데이터보다 작으면 스왑\n",
    "                if data[j] > data[j-1]:\n",
    "                    data[j], data[j-1] = data[j-1], data[j]\n",
    "#                     print(sequential_data)\n",
    "                else:\n",
    "                    break\n",
    "    \n",
    "    return data"
   ]
  },
  {
   "cell_type": "code",
   "execution_count": 48,
   "id": "corrected-stationery",
   "metadata": {},
   "outputs": [],
   "source": [
    "data = [14, 27, 32, 6, 10, 21, 5, 30, 24, 26]"
   ]
  },
  {
   "cell_type": "code",
   "execution_count": 52,
   "id": "frequent-camera",
   "metadata": {},
   "outputs": [
    {
     "data": {
      "text/plain": [
       "[14, 27, 32, 6, 10, 21, 5, 30, 24, 26]"
      ]
     },
     "execution_count": 52,
     "metadata": {},
     "output_type": "execute_result"
    }
   ],
   "source": [
    "data"
   ]
  },
  {
   "cell_type": "code",
   "execution_count": 49,
   "id": "broken-cinema",
   "metadata": {},
   "outputs": [],
   "source": [
    "sorted_data_1 = insertion_sort(data, True)"
   ]
  },
  {
   "cell_type": "code",
   "execution_count": 50,
   "id": "hydraulic-trust",
   "metadata": {},
   "outputs": [],
   "source": [
    "sorted_data_2 = insertion_sort(data, False)"
   ]
  },
  {
   "cell_type": "code",
   "execution_count": 51,
   "id": "revolutionary-queensland",
   "metadata": {},
   "outputs": [
    {
     "name": "stdout",
     "output_type": "stream",
     "text": [
      "삽입정렬 오름차순 :  [5, 6, 10, 14, 21, 24, 26, 27, 30, 32]\n",
      "삽입정렬 내림차순 :  [32, 30, 27, 26, 24, 21, 14, 10, 6, 5]\n"
     ]
    }
   ],
   "source": [
    "print(\"삽입정렬 오름차순 : \", sorted_data_1)\n",
    "print(\"삽입정렬 내림차순 : \", sorted_data_2)"
   ]
  },
  {
   "cell_type": "markdown",
   "id": "automotive-tuning",
   "metadata": {},
   "source": [
    "# 선택 정렬\n",
    "# 기준을 잡아 놓고 기준과 비교해서 최솟값의 위치를 찾고 자리를 바꿔가면서 정렬하는 방법"
   ]
  },
  {
   "cell_type": "code",
   "execution_count": 142,
   "id": "defensive-bridges",
   "metadata": {},
   "outputs": [],
   "source": [
    "def selection_sort(sequential_data, ascending=True):\n",
    "    \n",
    "    # 원본의 데이터를 변경하지 않기 위해 새로운 변수 만들기\n",
    "    data = sequential_data[:]\n",
    "    \n",
    "    # 첫번째 기준은 가장 앞에 있는 데이터\n",
    "    for point in range(len(data) -1):\n",
    "        min_or_max_index = point\n",
    "        # 기준점 다음부터 비교를 시작함\n",
    "        for i in range(point+1, len(data)):\n",
    "            # 오름차순\n",
    "            if ascending is True:\n",
    "                if data[min_or_max_index] > data[i]:\n",
    "                    min_or_max_index = i\n",
    "            # 내림차순\n",
    "            elif ascending is False:\n",
    "                if data[min_or_max_index] < data[i]:\n",
    "                    min_or_max_index = i\n",
    "        data[min_or_max_index], data[point] = data[point], data[min_or_max_index]\n",
    "    \n",
    "    return data"
   ]
  },
  {
   "cell_type": "code",
   "execution_count": 146,
   "id": "found-detector",
   "metadata": {},
   "outputs": [],
   "source": [
    "sorted_data_3 = selection_sort(data, True)"
   ]
  },
  {
   "cell_type": "code",
   "execution_count": 147,
   "id": "owned-simpson",
   "metadata": {},
   "outputs": [],
   "source": [
    "sorted_data_4 = selection_sort(data, False)"
   ]
  },
  {
   "cell_type": "code",
   "execution_count": 148,
   "id": "rising-satin",
   "metadata": {},
   "outputs": [
    {
     "name": "stdout",
     "output_type": "stream",
     "text": [
      "선택정렬 오름차순 :  [5, 6, 10, 14, 21, 24, 26, 27, 30, 32]\n",
      "선택정렬 내림차순 :  [32, 30, 27, 26, 24, 21, 14, 10, 6, 5]\n"
     ]
    }
   ],
   "source": [
    "print(\"선택정렬 오름차순 : \", sorted_data_3)\n",
    "print(\"선택정렬 내림차순 : \", sorted_data_4)"
   ]
  },
  {
   "cell_type": "markdown",
   "id": "relevant-disney",
   "metadata": {},
   "source": [
    "# 버블 정렬\n",
    "# 바로 다음 데이터와 비교하여 정렬하는 방법"
   ]
  },
  {
   "cell_type": "code",
   "execution_count": 149,
   "id": "gorgeous-blank",
   "metadata": {},
   "outputs": [],
   "source": [
    "def bubble_sort(sequential_data, ascending=True):\n",
    "    \n",
    "    # 원본의 데이터를 변경하지 않기 위해 새로운 변수 만들기\n",
    "    data = sequential_data[:]\n",
    "    \n",
    "    for i in range(len(data) -1):\n",
    "        swap = False\n",
    "        \n",
    "        for j in range(len(data) -i -1):\n",
    "            # 오름차순 \n",
    "            if ascending is True:\n",
    "                if data[j] > data[j+1]:\n",
    "                    data[j], data[j+1] = data[j+1], data[j]\n",
    "                    swap = True\n",
    "            # 내림차순        \n",
    "            elif ascending is False:\n",
    "                if data[j] < data[j+1]:\n",
    "                    data[j], data[j+1] = data[j+1], data[j]\n",
    "                    swap = True\n",
    "        \n",
    "        if swap is False:\n",
    "            break\n",
    "    \n",
    "    return data"
   ]
  },
  {
   "cell_type": "code",
   "execution_count": 158,
   "id": "limiting-response",
   "metadata": {},
   "outputs": [],
   "source": [
    "sorted_data_5 = bubble_sort(data, True)"
   ]
  },
  {
   "cell_type": "code",
   "execution_count": 159,
   "id": "progressive-observer",
   "metadata": {},
   "outputs": [],
   "source": [
    "sorted_data_6 = bubble_sort(data, False)"
   ]
  },
  {
   "cell_type": "code",
   "execution_count": 161,
   "id": "impressive-teach",
   "metadata": {},
   "outputs": [
    {
     "name": "stdout",
     "output_type": "stream",
     "text": [
      "버블정렬 오름차순 :  [5, 6, 10, 14, 21, 24, 26, 27, 30, 32]\n",
      "버블정렬 내림차순 :  [32, 30, 27, 26, 24, 21, 14, 10, 6, 5]\n"
     ]
    }
   ],
   "source": [
    "print(\"버블정렬 오름차순 : \", sorted_data_5)\n",
    "print(\"버블정렬 내림차순 : \", sorted_data_6)"
   ]
  },
  {
   "cell_type": "code",
   "execution_count": 169,
   "id": "amended-comparative",
   "metadata": {},
   "outputs": [],
   "source": [
    "import random"
   ]
  },
  {
   "cell_type": "code",
   "execution_count": 170,
   "id": "narrow-treaty",
   "metadata": {},
   "outputs": [],
   "source": [
    "data_2 = random.sample(range(50000), 10000)"
   ]
  },
  {
   "cell_type": "code",
   "execution_count": 171,
   "id": "mighty-snapshot",
   "metadata": {},
   "outputs": [
    {
     "name": "stdout",
     "output_type": "stream",
     "text": [
      "CPU times: user 5.64 s, sys: 62.8 ms, total: 5.7 s\n",
      "Wall time: 5.77 s\n"
     ]
    }
   ],
   "source": [
    "%%time\n",
    "sort_1 = insertion_sort(data_2)"
   ]
  },
  {
   "cell_type": "code",
   "execution_count": 172,
   "id": "brazilian-curtis",
   "metadata": {},
   "outputs": [
    {
     "name": "stdout",
     "output_type": "stream",
     "text": [
      "CPU times: user 4.58 s, sys: 57 ms, total: 4.63 s\n",
      "Wall time: 4.7 s\n"
     ]
    }
   ],
   "source": [
    "%%time\n",
    "sort_2 = selection_sort(data_2)"
   ]
  },
  {
   "cell_type": "code",
   "execution_count": 173,
   "id": "unsigned-polish",
   "metadata": {},
   "outputs": [
    {
     "name": "stdout",
     "output_type": "stream",
     "text": [
      "CPU times: user 8.89 s, sys: 106 ms, total: 9 s\n",
      "Wall time: 9.12 s\n"
     ]
    }
   ],
   "source": [
    "%%time\n",
    "sort_3 = bubble_sort(data_2)"
   ]
  }
 ],
 "metadata": {
  "kernelspec": {
   "display_name": "Python 3",
   "language": "python",
   "name": "python3"
  },
  "language_info": {
   "codemirror_mode": {
    "name": "ipython",
    "version": 3
   },
   "file_extension": ".py",
   "mimetype": "text/x-python",
   "name": "python",
   "nbconvert_exporter": "python",
   "pygments_lexer": "ipython3",
   "version": "3.7.10"
  }
 },
 "nbformat": 4,
 "nbformat_minor": 5
}
