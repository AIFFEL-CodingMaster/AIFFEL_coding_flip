{
 "cells": [
  {
   "cell_type": "code",
   "execution_count": null,
   "metadata": {},
   "outputs": [],
   "source": [
    "# leetcode 704 파이썬 알고리즘 인터뷰"
   ]
  },
  {
   "cell_type": "code",
   "execution_count": 1,
   "metadata": {},
   "outputs": [],
   "source": [
    "nums = [-1,0,3,5,9,12]\n",
    "target = 9"
   ]
  },
  {
   "cell_type": "code",
   "execution_count": 2,
   "metadata": {},
   "outputs": [],
   "source": [
    "def search(num, target):\n",
    "    def binary_search(left, right):\n",
    "        if left <= right:\n",
    "            mid = (left + right) // 2\n",
    "\n",
    "            if nums[mid] < target:\n",
    "                return binary_search(mid+1, right)\n",
    "            elif nums[mid] > target:\n",
    "                return binary_search(left, mid-1)\n",
    "            else:\n",
    "                return mid\n",
    "        else:\n",
    "            return -1\n",
    "    return binary_search(0 , len(nums) -1)"
   ]
  },
  {
   "cell_type": "code",
   "execution_count": 3,
   "metadata": {},
   "outputs": [
    {
     "data": {
      "text/plain": [
       "4"
      ]
     },
     "execution_count": 3,
     "metadata": {},
     "output_type": "execute_result"
    }
   ],
   "source": [
    "search(num=nums, target=target)"
   ]
  },
  {
   "cell_type": "code",
   "execution_count": 4,
   "metadata": {},
   "outputs": [],
   "source": [
    "def search(num, target):\n",
    "    left, right = 0, len(num)\n",
    "    while left <= right:\n",
    "        if num[mid] < target:\n",
    "            left = mid + 1\n",
    "        elif num[mid] > target:\n",
    "            right = mid -1\n",
    "        else:\n",
    "            return mid\n",
    "    return -1"
   ]
  },
  {
   "cell_type": "code",
   "execution_count": 5,
   "metadata": {},
   "outputs": [],
   "source": [
    "import bisect"
   ]
  },
  {
   "cell_type": "code",
   "execution_count": 6,
   "metadata": {},
   "outputs": [],
   "source": [
    "def search(nums, target):\n",
    "    index = bisect.bisect_left(nums, target)\n",
    "    \n",
    "    if index < len(nums) and nums[index] == target:\n",
    "        return index \n",
    "    else:\n",
    "        return -1"
   ]
  },
  {
   "cell_type": "code",
   "execution_count": 7,
   "metadata": {},
   "outputs": [
    {
     "data": {
      "text/plain": [
       "4"
      ]
     },
     "execution_count": 7,
     "metadata": {},
     "output_type": "execute_result"
    }
   ],
   "source": [
    "search(nums, target)"
   ]
  },
  {
   "cell_type": "code",
   "execution_count": 8,
   "metadata": {},
   "outputs": [],
   "source": [
    "# leetcode 33 파이썬 알고리즘 인터뷰"
   ]
  },
  {
   "cell_type": "code",
   "execution_count": 9,
   "metadata": {},
   "outputs": [],
   "source": [
    "def search(nums, target):\n",
    "    # 예외 처리\n",
    "    if not nums:\n",
    "        return -1\n",
    "    \n",
    "    # 최솟값을 찾아 피벗 설정\n",
    "    left, right = 0, len(nums) -1\n",
    "    while left < right:\n",
    "        mid = left + (right - left) // 2\n",
    "        print(f\"mid : {mid}\")\n",
    "        print()\n",
    "        \n",
    "        if nums[mid] > nums[right]:\n",
    "            left = mid + 1\n",
    "        else:\n",
    "            right = mid\n",
    "            \n",
    "    pivot = left\n",
    "    print(\"------------------------------------------\")\n",
    "    \n",
    "    # 피벗 기준 이진 검색\n",
    "    left, right = 0, len(nums) -1\n",
    "    while left <= right:\n",
    "        mid = left + (right + left) // 2\n",
    "        mid_pivot = (mid + pivot) % len(nums)\n",
    "        \n",
    "        print(f\"mid : {mid} , mid_pivot : {mid_pivot}\")\n",
    "        \n",
    "        if nums[mid_pivot] < target:\n",
    "            left = mid +1\n",
    "        elif nums[mid_pivot] > target:\n",
    "            right = mid -1\n",
    "        else:\n",
    "            return mid_pivot\n",
    "    return -1"
   ]
  },
  {
   "cell_type": "code",
   "execution_count": 10,
   "metadata": {},
   "outputs": [],
   "source": [
    "nums = [4,5,6,7,0,1,2]\n",
    "target = 1"
   ]
  },
  {
   "cell_type": "code",
   "execution_count": 11,
   "metadata": {},
   "outputs": [
    {
     "name": "stdout",
     "output_type": "stream",
     "text": [
      "mid : 3\n",
      "\n",
      "mid : 5\n",
      "\n",
      "mid : 4\n",
      "\n",
      "------------------------------------------\n",
      "mid : 3 , mid_pivot : 0\n",
      "mid : 1 , mid_pivot : 5\n"
     ]
    },
    {
     "data": {
      "text/plain": [
       "5"
      ]
     },
     "execution_count": 11,
     "metadata": {},
     "output_type": "execute_result"
    }
   ],
   "source": [
    "search(nums, target)"
   ]
  },
  {
   "cell_type": "code",
   "execution_count": null,
   "metadata": {},
   "outputs": [],
   "source": []
  }
 ],
 "metadata": {
  "kernelspec": {
   "display_name": "Python 3",
   "language": "python",
   "name": "python3"
  },
  "language_info": {
   "codemirror_mode": {
    "name": "ipython",
    "version": 3
   },
   "file_extension": ".py",
   "mimetype": "text/x-python",
   "name": "python",
   "nbconvert_exporter": "python",
   "pygments_lexer": "ipython3",
   "version": "3.8.5"
  }
 },
 "nbformat": 4,
 "nbformat_minor": 4
}
