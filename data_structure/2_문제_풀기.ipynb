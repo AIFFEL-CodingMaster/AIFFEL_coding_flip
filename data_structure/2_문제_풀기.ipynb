{
 "metadata": {
  "language_info": {
   "codemirror_mode": {
    "name": "ipython",
    "version": 3
   },
   "file_extension": ".py",
   "mimetype": "text/x-python",
   "name": "python",
   "nbconvert_exporter": "python",
   "pygments_lexer": "ipython3",
   "version": 3
  },
  "orig_nbformat": 2
 },
 "nbformat": 4,
 "nbformat_minor": 2,
 "cells": [
  {
   "cell_type": "code",
   "execution_count": null,
   "metadata": {},
   "outputs": [],
   "source": [
    "## leetcode 1290. Convert Binary Number in a Linked List to Integer\n",
    "\n",
    "# Definition for singly-linked list.\n",
    "# class ListNode:\n",
    "#     def __init__(self, val=0, next=None):\n",
    "#         self.val = val\n",
    "#         self.next = next\n",
    "class Solution:\n",
    "    def getDecimalValue(self, head: ListNode) -> int:\n",
    "        \n",
    "        temp = [head.val, ]\n",
    "\n",
    "        while head.next:\n",
    "            head.val = head.next.val\n",
    "            head.next = head.next.next\n",
    "        \n",
    "            temp.append(head.val)\n",
    "        temp = list(map(lambda x : str(x), temp))\n",
    "        temp = \"0b\" + \"\".join(temp)\n",
    "        answer = int(temp, 2)\n",
    "        return answer"
   ]
  },
  {
   "cell_type": "code",
   "execution_count": null,
   "metadata": {},
   "outputs": [],
   "source": [
    "# 234. Palindrome Linked List\n",
    "\n",
    "# Definition for singly-linked list.\n",
    "# class ListNode:\n",
    "#     def __init__(self, val=0, next=None):\n",
    "#         self.val = val\n",
    "#         self.next = next\n",
    "class Solution:\n",
    "    def isPalindrome(self, head: ListNode) -> bool:\n",
    "        deque = collections.deque()\n",
    "        \n",
    "        # 아무것도 없는 것이 들어오면 그냥 팰린드롬이라치고 true를 준다\n",
    "        if not head:\n",
    "            return True\n",
    "        \n",
    "        while head:\n",
    "            deque.append(head.val)\n",
    "            head = head.next\n",
    "            \n",
    "        # 1개만 있어도 팰린드롬으로 치자\n",
    "        while len(deque) > 1:\n",
    "            # 양끝이 같지 않으면 palindrome이 아님\n",
    "            if deque.popleft() != deque.pop():\n",
    "                return False\n",
    "        return True"
   ]
  }
 ]
}