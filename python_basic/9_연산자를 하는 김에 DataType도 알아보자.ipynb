{
 "cells": [
  {
   "cell_type": "markdown",
   "metadata": {},
   "source": [
    "# 산술연산자\n",
    "* 숫자 타입이 아닌데 산술연산자가 쓰인다?\n",
    "    * 아래의 DataType에서도!\n",
    "    * 문자 : str\n",
    "    * 리스트 : list []\n",
    "    * 집합 : set {}\n",
    "    * 튜플 : tuple ()\n",
    "    * 불리언 : bool True or False\n",
    "\n",
    "# 오늘 알아 볼 DataType! 한국말론 자료형\n",
    "\n",
    "## list\n",
    "* 내 스타일로 정의하는 list\n",
    "    * 어떤 객체던 여러 개를 자유롭게 담았다 뺐다 할 수 있는 통\n",
    "\n",
    "## set\n",
    "* 내 스타일로 정의하는 set\n",
    "    * 어떤 객체던 중복 없이 담을 수 있는 통\n",
    "\n",
    "## tuple\n",
    "* 내 스타일로 정의하는 tuple\n",
    "    * 어떤 객체던 여러 개를 자유롭게 담았다 ~~뺐다~~ 할 수 있는 통 // 자유롭게 담기만 가능\n",
    "\n",
    "## bool\n",
    "* 참 거짓을 나타내는 DataType"
   ]
  },
  {
   "cell_type": "code",
   "execution_count": 1,
   "metadata": {},
   "outputs": [],
   "source": [
    "# 자유롭게 담는 list\n",
    "list_a = [1,'이',3] # 숫자와 문자 같이 담을 수 있다 \n",
    "# \"어떤 것\"이던 담길 수 있다 / 보여드리죠\n",
    "# 이것은 함수 - 나중에 함\n",
    "def temp():\n",
    "    print(\"나는 함수\")\n",
    "# 이것은 클래스 -나중에 함\n",
    "class Temp:\n",
    "    pass\n",
    "# 숫자도 문자도 함수도 클래스도 모두 담을 수 있다\n",
    "list_b = [1,'이', temp, Temp]"
   ]
  },
  {
   "cell_type": "code",
   "execution_count": 2,
   "metadata": {},
   "outputs": [
    {
     "name": "stdout",
     "output_type": "stream",
     "text": [
      "[1, '이', 3, <function temp at 0x000001D42A217158>, <class '__main__.Temp'>]\n"
     ]
    }
   ],
   "source": [
    "# 리스트에 추가적으로 더 담는 법\n",
    "list_a.append(temp) # list.append(something) \n",
    "list_a = list_a + [Temp] # list + list\n",
    "print(list_a)"
   ]
  },
  {
   "cell_type": "code",
   "execution_count": 3,
   "metadata": {},
   "outputs": [
    {
     "name": "stdout",
     "output_type": "stream",
     "text": [
      "['이', 3, <function temp at 0x000001D42A217158>]\n"
     ]
    }
   ],
   "source": [
    "# 리스트에서 빼는 법\n",
    "list_a.pop() # list.pop(빼고 싶은 원소의 위치,) 아무것도 안 넣으면 가장 마지막 \n",
    "del list_a[0] # list[빼고 싶은 원소의 위치,] 아무것도 안 넣을 수 없음\n",
    "# 맨 처음과 맨 나중을 뺌\n",
    "print(list_a)"
   ]
  },
  {
   "cell_type": "markdown",
   "metadata": {},
   "source": [
    "# 파이썬의 인덱스\n",
    "* 파이썬에서 위치를 나타내는 숫자를 인덱스라 한다\n",
    "* 1부터 시작이아니고 0부터 시작이다\n",
    "```python\n",
    "list_a = [1,2,3,4]\n",
    "# list_a[0]은 1이고 list_a[1]은 2이고 list_a[2]는 ? 3이겠죠 그렇다면 list_a[3]은 ?\n",
    "```"
   ]
  },
  {
   "cell_type": "code",
   "execution_count": 4,
   "metadata": {},
   "outputs": [
    {
     "name": "stdout",
     "output_type": "stream",
     "text": [
      "{1, 2, 3}\n"
     ]
    }
   ],
   "source": [
    "# 중복없이 담는 set\n",
    "set_a = {1,1,2,2,3,3}\n",
    "# 아무리 중복으로 담아봐야 소용없음\n",
    "print(set_a)"
   ]
  },
  {
   "cell_type": "code",
   "execution_count": 5,
   "metadata": {},
   "outputs": [
    {
     "name": "stdout",
     "output_type": "stream",
     "text": [
      "{1, 4}\n"
     ]
    }
   ],
   "source": [
    "# set에 추가적으로 담는 법\n",
    "set_a.add(4)\n",
    "# set에서 빼는 법\n",
    "set_a = set_a - {2,3}\n",
    "print(set_a)"
   ]
  },
  {
   "cell_type": "code",
   "execution_count": 6,
   "metadata": {},
   "outputs": [
    {
     "name": "stdout",
     "output_type": "stream",
     "text": [
      "(1, '이', 3, 4, <function temp at 0x000001D42A217158>, <class '__main__.Temp'>)\n"
     ]
    }
   ],
   "source": [
    "# list처럼 아무거나 막 담을 수 있다\n",
    "tuple_a = (1,'이',3)\n",
    "# list처럼 + 로 추가 할 수 있다\n",
    "tuple_a = tuple_a + (4, temp, Temp)\n",
    "print(tuple_a)\n",
    "# 하지만 ... 빼는 건 안됨..."
   ]
  },
  {
   "cell_type": "code",
   "execution_count": 7,
   "metadata": {},
   "outputs": [
    {
     "name": "stdout",
     "output_type": "stream",
     "text": [
      "2\n",
      "1\n"
     ]
    }
   ],
   "source": [
    "# bool은 참 거짓 \n",
    "bool_a = True\n",
    "bool_b = False\n",
    "# True = 1 False = 0 이라고 생각하면 됨\n",
    "bool_c = bool_a + bool_a # 1 + 1\n",
    "bool_d = bool_a - bool_b # 1 + 0\n",
    "print(bool_c)\n",
    "print(bool_d)"
   ]
  },
  {
   "cell_type": "code",
   "execution_count": 8,
   "metadata": {},
   "outputs": [],
   "source": [
    "# list_a 를[2,3,6]으로 만들어 보기\n",
    "list_a = [1,2,3,8]\n",
    "list_a\n",
    "\n",
    "# tuple_a를 (1,2,\"3\",4,5)로 만들어 보기\n",
    "tuple_a = (1,)\n",
    "tuple_a\n",
    "\n",
    "# set_a 를 {1,3,5,7,9}로 만들어 보기\n",
    "set_a = {1,\"2\",3,\"4\",5,\"6\",7,\"8\",9}\n",
    "set_a"
   ]
  }
 ],
 "metadata": {
  "kernelspec": {
   "display_name": "Python 3",
   "language": "python",
   "name": "python3"
  },
  "language_info": {
   "codemirror_mode": {
    "name": "ipython",
    "version": 3
   },
   "file_extension": ".py",
   "mimetype": "text/x-python",
   "name": "python",
   "nbconvert_exporter": "python",
   "pygments_lexer": "ipython3",
   "version": "3.7.3"
  }
 },
 "nbformat": 4,
 "nbformat_minor": 2
}
