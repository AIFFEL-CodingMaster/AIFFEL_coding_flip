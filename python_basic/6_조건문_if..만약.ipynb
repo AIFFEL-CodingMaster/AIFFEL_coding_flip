{
 "cells": [
  {
   "cell_type": "markdown",
   "metadata": {},
   "source": [
    "# 조건문\n",
    "* 조건을 만족하면 실행함\n",
    "    * if : 만약 ~ 라면 실행\n",
    "    * elif : if가 아니고 elif 만약 ~라면 실행\n",
    "    * else : 앞에 언급한 조건이 아니면 else 실행\n",
    "* if 조건 끝에 **:** 붙여서 끝부분임을 표시해줘야함\n",
    "* 그리고 그 다음 코드는 4칸을 띄우고 작성한다 -> indentation이라고 부름\n",
    "```python\n",
    "if a == True: # 이렇게 끝에 : 표시 해주고\n",
    "    # 이렇게 4칸 띄우고\n",
    "    a = a + 1\n",
    "```"
   ]
  },
  {
   "cell_type": "code",
   "execution_count": 2,
   "metadata": {},
   "outputs": [
    {
     "name": "stdout",
     "output_type": "stream",
     "text": [
      "55\n",
      "100보다 작음\n"
     ]
    }
   ],
   "source": [
    "# 조건문을 만들어보자\n",
    "list_1 = [1,2,3,4,5,6,7,8,9,10]\n",
    "\n",
    "# 만약 list_1의 합이 100보다 작으면 print 실행\n",
    "if sum(list_1) < 100:\n",
    "    print(sum(list_1))\n",
    "    print(\"100보다 작음\")"
   ]
  },
  {
   "cell_type": "code",
   "execution_count": 3,
   "metadata": {},
   "outputs": [],
   "source": [
    "# 만약 조건이 맞지 않으면?\n",
    "if sum(list_1) > 100:\n",
    "    print(\"list_1의 합은 55인데 100보다 크다라는 조건이 틀려서 어짜피 이 print는 실행 안됨\")"
   ]
  },
  {
   "cell_type": "code",
   "execution_count": 4,
   "metadata": {},
   "outputs": [
    {
     "name": "stdout",
     "output_type": "stream",
     "text": [
      "위에 쓴 두 조건이 틀렸기 때문에 이게 실행 되겠죠\n"
     ]
    }
   ],
   "source": [
    "# 여러가지 조건을 걸고 싶다\n",
    "# 조건은 위에서부터 차례대로 검증\n",
    "if sum(list_1) > 100:\n",
    "    print(\"list_1의 합은 55인데 100보다 크다라는 조건이 틀려서 어짜피 이 print는 실행 안됨\")\n",
    "elif sum(list_1) >70:\n",
    "    print(\"이것도 어짜피 실행 안됨, 55는 70보다 작기 때문\")\n",
    "else:\n",
    "    print(\"위에 쓴 두 조건이 틀렸기 때문에 이게 실행 되겠죠\")"
   ]
  },
  {
   "cell_type": "code",
   "execution_count": 5,
   "metadata": {},
   "outputs": [
    {
     "name": "stdout",
     "output_type": "stream",
     "text": [
      "[1, 2, 3, 4, 5, 6, 7, 8, 9, 10, 11]\n"
     ]
    }
   ],
   "source": [
    "# if도 맞고 elif도 맞다면?\n",
    "if list_1[0] ==1:\n",
    "    list_1.append(11)\n",
    "    print(list_1)\n",
    "elif list_1[1] > 0:\n",
    "    print(\"이것이 실행이 될까요?\")"
   ]
  },
  {
   "cell_type": "markdown",
   "metadata": {},
   "source": [
    "### 조건이 둘 다 맞을 때 처음 맞은 if문만 실행되는 이유\n",
    "* if 조건문은 위에서부터 아래로 내려오면서 실행이 되고 조건을 만족하는 순간 아래의 코드를 실행하고\n",
    "* 다음 elif 조건문을 실행하지 않고 끝이나서 안됩니다"
   ]
  },
  {
   "cell_type": "code",
   "execution_count": 6,
   "metadata": {},
   "outputs": [
    {
     "name": "stdout",
     "output_type": "stream",
     "text": [
      "list_2는 존재하니까 실행\n"
     ]
    }
   ],
   "source": [
    "# 여러가지 조건을 만드는 법\n",
    "list_2 = [\"A\",\"B\",\"C\"]\n",
    "# list_2가 존재하면 조건문 실행\n",
    "if list_2:\n",
    "    print(\"list_2는 존재하니까 실행\")"
   ]
  },
  {
   "cell_type": "code",
   "execution_count": 7,
   "metadata": {},
   "outputs": [
    {
     "name": "stdout",
     "output_type": "stream",
     "text": [
      "list_2는 None이 아니니까 실행\n"
     ]
    }
   ],
   "source": [
    "# list_2가 None이 아니면 조건문 실행\n",
    "if list_2 is not None:\n",
    "    print(\"list_2는 None이 아니니까 실행\")"
   ]
  },
  {
   "cell_type": "code",
   "execution_count": 12,
   "metadata": {},
   "outputs": [
    {
     "name": "stdout",
     "output_type": "stream",
     "text": [
      "list_2안에 A 가 있으니까 실행\n",
      "list_2는 A B C 밖에 없죠\n"
     ]
    }
   ],
   "source": [
    "# \"A\" 가 list_2에 있으면 조건문 실행\n",
    "if \"A\" in list_2:\n",
    "    print(\"list_2안에 A 가 있으니까 실행\")\n",
    "# \"D\" 가 list_2에 있지 않으면 조건문 실행\n",
    "if \"D\" not in list_2:\n",
    "    print(\"list_2는 A B C 밖에 없죠\")"
   ]
  },
  {
   "cell_type": "code",
   "execution_count": null,
   "metadata": {},
   "outputs": [],
   "source": [
    "# 조건문이 실행되게 만들어보기\n",
    "list_3 =\n",
    "if len(list_3) < 10:\n",
    "    print(\"list_3 : \", list_3)"
   ]
  },
  {
   "cell_type": "code",
   "execution_count": 15,
   "metadata": {},
   "outputs": [
    {
     "name": "stdout",
     "output_type": "stream",
     "text": [
      "hi\n"
     ]
    }
   ],
   "source": [
    "# a의 type이 set이면 조건문 실행\n",
    "a = \n",
    "if  == :\n",
    "    print('type of a : set')"
   ]
  },
  {
   "cell_type": "code",
   "execution_count": null,
   "metadata": {},
   "outputs": [],
   "source": [
    "# elif 조건에서 실행되도록 조건문 만들어보기\n",
    "b = None\n",
    "\n",
    "if b is not None:\n",
    "    print(\"실행 x\")\n",
    "elif"
   ]
  }
 ],
 "metadata": {
  "kernelspec": {
   "display_name": "Python 3",
   "language": "python",
   "name": "python3"
  },
  "language_info": {
   "codemirror_mode": {
    "name": "ipython",
    "version": 3
   },
   "file_extension": ".py",
   "mimetype": "text/x-python",
   "name": "python",
   "nbconvert_exporter": "python",
   "pygments_lexer": "ipython3",
   "version": "3.7.3"
  }
 },
 "nbformat": 4,
 "nbformat_minor": 2
}
