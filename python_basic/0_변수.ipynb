{
 "cells": [
  {
   "cell_type": "markdown",
   "metadata": {},
   "source": [
    "# 파이썬 \n",
    "### 어려운 개념은 다 빼고\n",
    "\n",
    "* 객체지향언어\n",
    "    * 객체 : 세상의 모든 것 / 눈에 보이는 모든 것 또는 보이지 않는 개념적인 모든 것\n",
    "        * 사람, 동물, 생각, 마음, 숫자, 글자 ... \n",
    "* everything is object : 파이썬의 모든 것은 객체이다\n",
    "* 일단은 여기까지만 알고 갑시다\n",
    "\n",
    "\n",
    "# 변수\n",
    "* 객체를 가리키는 것 or 객체를 담는 것\n",
    "* 변수명은 어떤 것이던 될 수 있음 \n",
    "    * 영어로 쓰는 것을 권장\n",
    "    * 숫자로 시작할 수 없음\n",
    "    * 특수문자도 될 수 없음  \n",
    "    ```python\n",
    "        # 이런식으로 변수 사용\n",
    "        a = 1, _a = '가나다라', b = a\n",
    "    ```\n",
    "    * 나타내고자 하는 바를 명확하게 써주면 좋다\n"
   ]
  },
  {
   "cell_type": "markdown",
   "metadata": {},
   "source": [
    "### Like below"
   ]
  },
  {
   "cell_type": "code",
   "execution_count": 7,
   "metadata": {},
   "outputs": [],
   "source": [
    "name = \"정민채\""
   ]
  },
  {
   "cell_type": "code",
   "execution_count": 8,
   "metadata": {},
   "outputs": [],
   "source": [
    "eng_name = \"JungMinchae\""
   ]
  },
  {
   "cell_type": "code",
   "execution_count": 9,
   "metadata": {},
   "outputs": [],
   "source": [
    "phone_number = \"010-1234-5678\""
   ]
  },
  {
   "cell_type": "code",
   "execution_count": 10,
   "metadata": {},
   "outputs": [],
   "source": [
    "height = \"188cm\""
   ]
  },
  {
   "cell_type": "code",
   "execution_count": 11,
   "metadata": {},
   "outputs": [],
   "source": [
    "weight =\"84kg\""
   ]
  },
  {
   "cell_type": "code",
   "execution_count": 16,
   "metadata": {},
   "outputs": [
    {
     "name": "stdout",
     "output_type": "stream",
     "text": [
      "정민채 \n",
      " JungMinchae \n",
      " 010-1234-5678 \n",
      " 188cm \n",
      " 84kg\n",
      "정민채 \t JungMinchae \t 010-1234-5678 \t 188cm \t 84kg\n"
     ]
    }
   ],
   "source": [
    "# 출력은 print\n",
    "# \\n 은 한 줄 띄우기\n",
    "print(name, '\\n', eng_name, '\\n', phone_number, \"\\n\", height, \"\\n\", weight) \n",
    "# 한 줄 띄우고 싶을 땐 빈 print를 입력\n",
    "print() \n",
    "# \\t는 tap키를 한 번 누른 것\n",
    "print(name, '\\t', eng_name, '\\t', phone_number, \"\\t\", height, \"\\t\", weight)"
   ]
  },
  {
   "cell_type": "markdown",
   "metadata": {},
   "source": [
    "# 개인 프로필로 변수 만들어보기"
   ]
  },
  {
   "cell_type": "code",
   "execution_count": null,
   "metadata": {},
   "outputs": [],
   "source": [
    "name = \n",
    "eng_name = \n",
    "phone_number = \n",
    "# 추가적으로 더 만들고 싶은 변수 생성\n",
    "\n",
    "# print 도 해보기\n",
    "# \\n을 사용하여 한 줄 띄우고 출력\n",
    "print()\n",
    "# \\t를 사용하여 몇 칸 띄우고 출력\n",
    "print()"
   ]
  },
  {
   "cell_type": "markdown",
   "metadata": {},
   "source": [
    "* 변수에 객체를 담을 때 \"=\" 등호를 사용합니다\n",
    "* <code> a = 1 </code>\n",
    "* 이라고 했을 때 해석을 \"a 는 1과 같다. 그래서 a를 출력하면 1이 나온다\" 라고 해석하면 안됩니다\n",
    "* **처음에 언급했듯이 a 라는 변수에 1을 담았다. 혹은 조금 어려운 말로 할당했다 라고 해석해야 합니다**"
   ]
  }
 ],
 "metadata": {
  "kernelspec": {
   "display_name": "Python 3",
   "language": "python",
   "name": "python3"
  },
  "language_info": {
   "codemirror_mode": {
    "name": "ipython",
    "version": 3
   },
   "file_extension": ".py",
   "mimetype": "text/x-python",
   "name": "python",
   "nbconvert_exporter": "python",
   "pygments_lexer": "ipython3",
   "version": "3.7.3"
  }
 },
 "nbformat": 4,
 "nbformat_minor": 2
}
