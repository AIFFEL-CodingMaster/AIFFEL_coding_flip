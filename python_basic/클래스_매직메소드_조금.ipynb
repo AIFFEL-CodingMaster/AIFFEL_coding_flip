{
 "cells": [
  {
   "cell_type": "code",
   "execution_count": 16,
   "metadata": {},
   "outputs": [],
   "source": [
    "import numpy as np\n",
    "import pandas as pd"
   ]
  },
  {
   "cell_type": "code",
   "execution_count": 17,
   "metadata": {},
   "outputs": [],
   "source": [
    "uniform = np.random.uniform(size=(10,10))"
   ]
  },
  {
   "cell_type": "code",
   "execution_count": 18,
   "metadata": {},
   "outputs": [],
   "source": [
    "data = pd.DataFrame(uniform, columns=\"a b c d e f g h i j\".split())"
   ]
  },
  {
   "cell_type": "code",
   "execution_count": 19,
   "metadata": {},
   "outputs": [],
   "source": [
    "# 위의 데이터를 활용하여 PandasData class를 생성\n",
    "class PandasData:\n",
    "    def __init__(self, data):\n",
    "        self.data = data"
   ]
  },
  {
   "cell_type": "code",
   "execution_count": 20,
   "metadata": {},
   "outputs": [],
   "source": [
    "# 인스턴스 생성\n",
    "pd_data = PandasData(data)"
   ]
  },
  {
   "cell_type": "code",
   "execution_count": 11,
   "metadata": {},
   "outputs": [
    {
     "name": "stdout",
     "output_type": "stream",
     "text": [
      "<__main__.PandasData object at 0x7fdc09dcbaf0>\n"
     ]
    }
   ],
   "source": [
    "# 클래스를 프린트하면!\n",
    "print(pd_data)"
   ]
  },
  {
   "cell_type": "code",
   "execution_count": 49,
   "metadata": {},
   "outputs": [],
   "source": [
    "# 자 이제 클래스 매직메소드를 알아봅시다\n",
    "class PandasData:\n",
    "    def __init__(self, data):\n",
    "        self.data = data\n",
    "    \n",
    "    # 객체를 문자열로 나타내줌\n",
    "    def __str__(self):\n",
    "        return \"안녕 나는 클래스!\"\n",
    "    \n",
    "    # index를 출력할 수 있도록 해줌\n",
    "    def __getitem__(self, idx):\n",
    "        return self.data[idx]\n",
    "    \n",
    "    # 길이를 출력\n",
    "    def __len__(self):\n",
    "        return len(self.data)\n",
    "    \n",
    "    # 클래스를 함수처럼 호출할 수 있게 해줌\n",
    "    def __call__(self):\n",
    "        # 호출을 하면 head를 찍어보는 걸로 한 번 만들어 보자\n",
    "        return self.data.head()"
   ]
  },
  {
   "cell_type": "code",
   "execution_count": 50,
   "metadata": {},
   "outputs": [],
   "source": [
    "# 인스턴스 생성\n",
    "pd_data = PandasData(data)"
   ]
  },
  {
   "cell_type": "code",
   "execution_count": 51,
   "metadata": {},
   "outputs": [
    {
     "name": "stdout",
     "output_type": "stream",
     "text": [
      "안녕 나는 클래스!\n"
     ]
    }
   ],
   "source": [
    "print(pd_data)"
   ]
  },
  {
   "cell_type": "code",
   "execution_count": 52,
   "metadata": {},
   "outputs": [
    {
     "data": {
      "text/plain": [
       "'안녕 나는 클래스!'"
      ]
     },
     "execution_count": 52,
     "metadata": {},
     "output_type": "execute_result"
    }
   ],
   "source": [
    "str(pd_data)"
   ]
  },
  {
   "cell_type": "code",
   "execution_count": 53,
   "metadata": {},
   "outputs": [
    {
     "data": {
      "text/html": [
       "<div>\n",
       "<style scoped>\n",
       "    .dataframe tbody tr th:only-of-type {\n",
       "        vertical-align: middle;\n",
       "    }\n",
       "\n",
       "    .dataframe tbody tr th {\n",
       "        vertical-align: top;\n",
       "    }\n",
       "\n",
       "    .dataframe thead th {\n",
       "        text-align: right;\n",
       "    }\n",
       "</style>\n",
       "<table border=\"1\" class=\"dataframe\">\n",
       "  <thead>\n",
       "    <tr style=\"text-align: right;\">\n",
       "      <th></th>\n",
       "      <th>a</th>\n",
       "      <th>b</th>\n",
       "      <th>c</th>\n",
       "      <th>d</th>\n",
       "      <th>e</th>\n",
       "      <th>f</th>\n",
       "      <th>g</th>\n",
       "      <th>h</th>\n",
       "      <th>i</th>\n",
       "      <th>j</th>\n",
       "    </tr>\n",
       "  </thead>\n",
       "  <tbody>\n",
       "    <tr>\n",
       "      <th>3</th>\n",
       "      <td>0.603937</td>\n",
       "      <td>0.476178</td>\n",
       "      <td>0.348176</td>\n",
       "      <td>0.426243</td>\n",
       "      <td>0.673319</td>\n",
       "      <td>0.092919</td>\n",
       "      <td>0.084662</td>\n",
       "      <td>0.784248</td>\n",
       "      <td>0.992000</td>\n",
       "      <td>0.206204</td>\n",
       "    </tr>\n",
       "    <tr>\n",
       "      <th>4</th>\n",
       "      <td>0.680510</td>\n",
       "      <td>0.828601</td>\n",
       "      <td>0.854995</td>\n",
       "      <td>0.623782</td>\n",
       "      <td>0.707008</td>\n",
       "      <td>0.885201</td>\n",
       "      <td>0.656024</td>\n",
       "      <td>0.036192</td>\n",
       "      <td>0.043505</td>\n",
       "      <td>0.124502</td>\n",
       "    </tr>\n",
       "  </tbody>\n",
       "</table>\n",
       "</div>"
      ],
      "text/plain": [
       "          a         b         c         d         e         f         g  \\\n",
       "3  0.603937  0.476178  0.348176  0.426243  0.673319  0.092919  0.084662   \n",
       "4  0.680510  0.828601  0.854995  0.623782  0.707008  0.885201  0.656024   \n",
       "\n",
       "          h         i         j  \n",
       "3  0.784248  0.992000  0.206204  \n",
       "4  0.036192  0.043505  0.124502  "
      ]
     },
     "execution_count": 53,
     "metadata": {},
     "output_type": "execute_result"
    }
   ],
   "source": [
    "pd_data[3:5]"
   ]
  },
  {
   "cell_type": "code",
   "execution_count": 54,
   "metadata": {},
   "outputs": [
    {
     "data": {
      "text/plain": [
       "10"
      ]
     },
     "execution_count": 54,
     "metadata": {},
     "output_type": "execute_result"
    }
   ],
   "source": [
    "len(pd_data)"
   ]
  },
  {
   "cell_type": "code",
   "execution_count": 55,
   "metadata": {},
   "outputs": [
    {
     "data": {
      "text/html": [
       "<div>\n",
       "<style scoped>\n",
       "    .dataframe tbody tr th:only-of-type {\n",
       "        vertical-align: middle;\n",
       "    }\n",
       "\n",
       "    .dataframe tbody tr th {\n",
       "        vertical-align: top;\n",
       "    }\n",
       "\n",
       "    .dataframe thead th {\n",
       "        text-align: right;\n",
       "    }\n",
       "</style>\n",
       "<table border=\"1\" class=\"dataframe\">\n",
       "  <thead>\n",
       "    <tr style=\"text-align: right;\">\n",
       "      <th></th>\n",
       "      <th>a</th>\n",
       "      <th>b</th>\n",
       "      <th>c</th>\n",
       "      <th>d</th>\n",
       "      <th>e</th>\n",
       "      <th>f</th>\n",
       "      <th>g</th>\n",
       "      <th>h</th>\n",
       "      <th>i</th>\n",
       "      <th>j</th>\n",
       "    </tr>\n",
       "  </thead>\n",
       "  <tbody>\n",
       "    <tr>\n",
       "      <th>0</th>\n",
       "      <td>0.481066</td>\n",
       "      <td>0.817718</td>\n",
       "      <td>0.005482</td>\n",
       "      <td>0.375261</td>\n",
       "      <td>0.140282</td>\n",
       "      <td>0.718311</td>\n",
       "      <td>0.731301</td>\n",
       "      <td>0.198508</td>\n",
       "      <td>0.434897</td>\n",
       "      <td>0.567554</td>\n",
       "    </tr>\n",
       "    <tr>\n",
       "      <th>1</th>\n",
       "      <td>0.440690</td>\n",
       "      <td>0.886681</td>\n",
       "      <td>0.873611</td>\n",
       "      <td>0.161543</td>\n",
       "      <td>0.858753</td>\n",
       "      <td>0.314928</td>\n",
       "      <td>0.894389</td>\n",
       "      <td>0.728169</td>\n",
       "      <td>0.676304</td>\n",
       "      <td>0.002486</td>\n",
       "    </tr>\n",
       "    <tr>\n",
       "      <th>2</th>\n",
       "      <td>0.181619</td>\n",
       "      <td>0.726922</td>\n",
       "      <td>0.909531</td>\n",
       "      <td>0.444168</td>\n",
       "      <td>0.469087</td>\n",
       "      <td>0.929685</td>\n",
       "      <td>0.636387</td>\n",
       "      <td>0.940607</td>\n",
       "      <td>0.299110</td>\n",
       "      <td>0.606034</td>\n",
       "    </tr>\n",
       "    <tr>\n",
       "      <th>3</th>\n",
       "      <td>0.603937</td>\n",
       "      <td>0.476178</td>\n",
       "      <td>0.348176</td>\n",
       "      <td>0.426243</td>\n",
       "      <td>0.673319</td>\n",
       "      <td>0.092919</td>\n",
       "      <td>0.084662</td>\n",
       "      <td>0.784248</td>\n",
       "      <td>0.992000</td>\n",
       "      <td>0.206204</td>\n",
       "    </tr>\n",
       "    <tr>\n",
       "      <th>4</th>\n",
       "      <td>0.680510</td>\n",
       "      <td>0.828601</td>\n",
       "      <td>0.854995</td>\n",
       "      <td>0.623782</td>\n",
       "      <td>0.707008</td>\n",
       "      <td>0.885201</td>\n",
       "      <td>0.656024</td>\n",
       "      <td>0.036192</td>\n",
       "      <td>0.043505</td>\n",
       "      <td>0.124502</td>\n",
       "    </tr>\n",
       "    <tr>\n",
       "      <th>5</th>\n",
       "      <td>0.147721</td>\n",
       "      <td>0.907068</td>\n",
       "      <td>0.148963</td>\n",
       "      <td>0.655540</td>\n",
       "      <td>0.316879</td>\n",
       "      <td>0.801379</td>\n",
       "      <td>0.898153</td>\n",
       "      <td>0.302701</td>\n",
       "      <td>0.269131</td>\n",
       "      <td>0.165910</td>\n",
       "    </tr>\n",
       "    <tr>\n",
       "      <th>6</th>\n",
       "      <td>0.749759</td>\n",
       "      <td>0.023076</td>\n",
       "      <td>0.331678</td>\n",
       "      <td>0.750334</td>\n",
       "      <td>0.446332</td>\n",
       "      <td>0.547828</td>\n",
       "      <td>0.871603</td>\n",
       "      <td>0.807038</td>\n",
       "      <td>0.431952</td>\n",
       "      <td>0.326070</td>\n",
       "    </tr>\n",
       "    <tr>\n",
       "      <th>7</th>\n",
       "      <td>0.738967</td>\n",
       "      <td>0.493176</td>\n",
       "      <td>0.619921</td>\n",
       "      <td>0.462660</td>\n",
       "      <td>0.976856</td>\n",
       "      <td>0.754311</td>\n",
       "      <td>0.194957</td>\n",
       "      <td>0.407592</td>\n",
       "      <td>0.425072</td>\n",
       "      <td>0.737292</td>\n",
       "    </tr>\n",
       "    <tr>\n",
       "      <th>8</th>\n",
       "      <td>0.502064</td>\n",
       "      <td>0.132246</td>\n",
       "      <td>0.489150</td>\n",
       "      <td>0.564911</td>\n",
       "      <td>0.299747</td>\n",
       "      <td>0.894868</td>\n",
       "      <td>0.097001</td>\n",
       "      <td>0.620676</td>\n",
       "      <td>0.989877</td>\n",
       "      <td>0.851482</td>\n",
       "    </tr>\n",
       "    <tr>\n",
       "      <th>9</th>\n",
       "      <td>0.550975</td>\n",
       "      <td>0.072010</td>\n",
       "      <td>0.101442</td>\n",
       "      <td>0.319063</td>\n",
       "      <td>0.975455</td>\n",
       "      <td>0.518220</td>\n",
       "      <td>0.365386</td>\n",
       "      <td>0.784540</td>\n",
       "      <td>0.186426</td>\n",
       "      <td>0.485671</td>\n",
       "    </tr>\n",
       "  </tbody>\n",
       "</table>\n",
       "</div>"
      ],
      "text/plain": [
       "          a         b         c         d         e         f         g  \\\n",
       "0  0.481066  0.817718  0.005482  0.375261  0.140282  0.718311  0.731301   \n",
       "1  0.440690  0.886681  0.873611  0.161543  0.858753  0.314928  0.894389   \n",
       "2  0.181619  0.726922  0.909531  0.444168  0.469087  0.929685  0.636387   \n",
       "3  0.603937  0.476178  0.348176  0.426243  0.673319  0.092919  0.084662   \n",
       "4  0.680510  0.828601  0.854995  0.623782  0.707008  0.885201  0.656024   \n",
       "5  0.147721  0.907068  0.148963  0.655540  0.316879  0.801379  0.898153   \n",
       "6  0.749759  0.023076  0.331678  0.750334  0.446332  0.547828  0.871603   \n",
       "7  0.738967  0.493176  0.619921  0.462660  0.976856  0.754311  0.194957   \n",
       "8  0.502064  0.132246  0.489150  0.564911  0.299747  0.894868  0.097001   \n",
       "9  0.550975  0.072010  0.101442  0.319063  0.975455  0.518220  0.365386   \n",
       "\n",
       "          h         i         j  \n",
       "0  0.198508  0.434897  0.567554  \n",
       "1  0.728169  0.676304  0.002486  \n",
       "2  0.940607  0.299110  0.606034  \n",
       "3  0.784248  0.992000  0.206204  \n",
       "4  0.036192  0.043505  0.124502  \n",
       "5  0.302701  0.269131  0.165910  \n",
       "6  0.807038  0.431952  0.326070  \n",
       "7  0.407592  0.425072  0.737292  \n",
       "8  0.620676  0.989877  0.851482  \n",
       "9  0.784540  0.186426  0.485671  "
      ]
     },
     "execution_count": 55,
     "metadata": {},
     "output_type": "execute_result"
    }
   ],
   "source": [
    "pd_data[:10]"
   ]
  },
  {
   "cell_type": "code",
   "execution_count": 56,
   "metadata": {},
   "outputs": [
    {
     "name": "stdout",
     "output_type": "stream",
     "text": [
      "a\n",
      "b\n",
      "c\n",
      "d\n",
      "e\n",
      "f\n",
      "g\n",
      "h\n",
      "i\n",
      "j\n"
     ]
    }
   ],
   "source": [
    "for i in pd_data[:10]:\n",
    "    print(i)"
   ]
  },
  {
   "cell_type": "code",
   "execution_count": 57,
   "metadata": {},
   "outputs": [
    {
     "data": {
      "text/html": [
       "<div>\n",
       "<style scoped>\n",
       "    .dataframe tbody tr th:only-of-type {\n",
       "        vertical-align: middle;\n",
       "    }\n",
       "\n",
       "    .dataframe tbody tr th {\n",
       "        vertical-align: top;\n",
       "    }\n",
       "\n",
       "    .dataframe thead th {\n",
       "        text-align: right;\n",
       "    }\n",
       "</style>\n",
       "<table border=\"1\" class=\"dataframe\">\n",
       "  <thead>\n",
       "    <tr style=\"text-align: right;\">\n",
       "      <th></th>\n",
       "      <th>a</th>\n",
       "      <th>b</th>\n",
       "      <th>c</th>\n",
       "      <th>d</th>\n",
       "      <th>e</th>\n",
       "      <th>f</th>\n",
       "      <th>g</th>\n",
       "      <th>h</th>\n",
       "      <th>i</th>\n",
       "      <th>j</th>\n",
       "    </tr>\n",
       "  </thead>\n",
       "  <tbody>\n",
       "    <tr>\n",
       "      <th>0</th>\n",
       "      <td>0.481066</td>\n",
       "      <td>0.817718</td>\n",
       "      <td>0.005482</td>\n",
       "      <td>0.375261</td>\n",
       "      <td>0.140282</td>\n",
       "      <td>0.718311</td>\n",
       "      <td>0.731301</td>\n",
       "      <td>0.198508</td>\n",
       "      <td>0.434897</td>\n",
       "      <td>0.567554</td>\n",
       "    </tr>\n",
       "    <tr>\n",
       "      <th>1</th>\n",
       "      <td>0.440690</td>\n",
       "      <td>0.886681</td>\n",
       "      <td>0.873611</td>\n",
       "      <td>0.161543</td>\n",
       "      <td>0.858753</td>\n",
       "      <td>0.314928</td>\n",
       "      <td>0.894389</td>\n",
       "      <td>0.728169</td>\n",
       "      <td>0.676304</td>\n",
       "      <td>0.002486</td>\n",
       "    </tr>\n",
       "    <tr>\n",
       "      <th>2</th>\n",
       "      <td>0.181619</td>\n",
       "      <td>0.726922</td>\n",
       "      <td>0.909531</td>\n",
       "      <td>0.444168</td>\n",
       "      <td>0.469087</td>\n",
       "      <td>0.929685</td>\n",
       "      <td>0.636387</td>\n",
       "      <td>0.940607</td>\n",
       "      <td>0.299110</td>\n",
       "      <td>0.606034</td>\n",
       "    </tr>\n",
       "    <tr>\n",
       "      <th>3</th>\n",
       "      <td>0.603937</td>\n",
       "      <td>0.476178</td>\n",
       "      <td>0.348176</td>\n",
       "      <td>0.426243</td>\n",
       "      <td>0.673319</td>\n",
       "      <td>0.092919</td>\n",
       "      <td>0.084662</td>\n",
       "      <td>0.784248</td>\n",
       "      <td>0.992000</td>\n",
       "      <td>0.206204</td>\n",
       "    </tr>\n",
       "    <tr>\n",
       "      <th>4</th>\n",
       "      <td>0.680510</td>\n",
       "      <td>0.828601</td>\n",
       "      <td>0.854995</td>\n",
       "      <td>0.623782</td>\n",
       "      <td>0.707008</td>\n",
       "      <td>0.885201</td>\n",
       "      <td>0.656024</td>\n",
       "      <td>0.036192</td>\n",
       "      <td>0.043505</td>\n",
       "      <td>0.124502</td>\n",
       "    </tr>\n",
       "  </tbody>\n",
       "</table>\n",
       "</div>"
      ],
      "text/plain": [
       "          a         b         c         d         e         f         g  \\\n",
       "0  0.481066  0.817718  0.005482  0.375261  0.140282  0.718311  0.731301   \n",
       "1  0.440690  0.886681  0.873611  0.161543  0.858753  0.314928  0.894389   \n",
       "2  0.181619  0.726922  0.909531  0.444168  0.469087  0.929685  0.636387   \n",
       "3  0.603937  0.476178  0.348176  0.426243  0.673319  0.092919  0.084662   \n",
       "4  0.680510  0.828601  0.854995  0.623782  0.707008  0.885201  0.656024   \n",
       "\n",
       "          h         i         j  \n",
       "0  0.198508  0.434897  0.567554  \n",
       "1  0.728169  0.676304  0.002486  \n",
       "2  0.940607  0.299110  0.606034  \n",
       "3  0.784248  0.992000  0.206204  \n",
       "4  0.036192  0.043505  0.124502  "
      ]
     },
     "execution_count": 57,
     "metadata": {},
     "output_type": "execute_result"
    }
   ],
   "source": [
    "# 함수처럼 () 써서 호출하면 됨\n",
    "pd_data()"
   ]
  },
  {
   "cell_type": "code",
   "execution_count": null,
   "metadata": {},
   "outputs": [],
   "source": []
  }
 ],
 "metadata": {
  "kernelspec": {
   "display_name": "Python 3",
   "language": "python",
   "name": "python3"
  },
  "language_info": {
   "codemirror_mode": {
    "name": "ipython",
    "version": 3
   },
   "file_extension": ".py",
   "mimetype": "text/x-python",
   "name": "python",
   "nbconvert_exporter": "python",
   "pygments_lexer": "ipython3",
   "version": "3.8.5"
  }
 },
 "nbformat": 4,
 "nbformat_minor": 4
}
