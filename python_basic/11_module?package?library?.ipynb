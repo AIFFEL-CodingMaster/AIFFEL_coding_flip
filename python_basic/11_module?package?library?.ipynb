{
 "cells": [
  {
   "cell_type": "markdown",
   "id": "immediate-calendar",
   "metadata": {},
   "source": [
    "# Module\n",
    "* 다양한 클래스, 함수 등이 작성되어 있는 파이썬 코드 파일, .py\n",
    "\n",
    "# package\n",
    "* 모듈들이 모이면 패키지가 됨 \n",
    "\n",
    "# library \n",
    "* 패키지가 모여서 라이브러리가 됨\n",
    "\n",
    "### ex) sklearn 라이브러리안에 ensemble 모델을 다루는 패키지가 있고 그 패키지안에 모델을 학습하는 모듈, 테스트하는 모듈 등이 있죠\n",
    "---\n",
    "## 필요한 모든 코드를 우리가 다 만들 수 없기 때문에 필요한 라이브러리를 설치하고 **import**하여 사용하면 되는 것\n",
    "- import -> 불러오기"
   ]
  },
  {
   "cell_type": "code",
   "execution_count": 1,
   "id": "derived-handle",
   "metadata": {},
   "outputs": [],
   "source": [
    "# import 하는 법\n",
    "# pandas 라이브러리 import\n",
    "import pandas"
   ]
  },
  {
   "cell_type": "code",
   "execution_count": 2,
   "id": "universal-dollar",
   "metadata": {},
   "outputs": [
    {
     "data": {
      "text/plain": [
       "'1.2.0'"
      ]
     },
     "execution_count": 2,
     "metadata": {},
     "output_type": "execute_result"
    }
   ],
   "source": [
    "pandas.__version__"
   ]
  },
  {
   "cell_type": "code",
   "execution_count": 3,
   "id": "internal-victorian",
   "metadata": {},
   "outputs": [],
   "source": [
    "# 하지만 pandas 타자로치기 길다 -> 무려 5글자\n",
    "# alias를 사용해서 줄이자 -> \"\"\"as\"\"\" 로 표현할 수 있음\n",
    "# as 뒤에 내가 쓰고 싶은 아무거나\n",
    "import pandas as pd "
   ]
  },
  {
   "cell_type": "code",
   "execution_count": 4,
   "id": "decreased-spelling",
   "metadata": {},
   "outputs": [
    {
     "data": {
      "text/plain": [
       "'1.2.0'"
      ]
     },
     "execution_count": 4,
     "metadata": {},
     "output_type": "execute_result"
    }
   ],
   "source": [
    "pd.__version__"
   ]
  },
  {
   "cell_type": "code",
   "execution_count": 5,
   "id": "measured-venture",
   "metadata": {},
   "outputs": [],
   "source": [
    "# 나는 pd가 싫다면? -> 아무거나 쓰면됨\n",
    "import pandas as dp"
   ]
  },
  {
   "cell_type": "code",
   "execution_count": 6,
   "id": "worthy-shelf",
   "metadata": {},
   "outputs": [
    {
     "data": {
      "text/plain": [
       "'1.2.0'"
      ]
     },
     "execution_count": 6,
     "metadata": {},
     "output_type": "execute_result"
    }
   ],
   "source": [
    "dp.__version__"
   ]
  },
  {
   "cell_type": "code",
   "execution_count": 7,
   "id": "productive-testing",
   "metadata": {},
   "outputs": [],
   "source": [
    "# 아무거나 2\n",
    "# alias는 다르지만 다 똑같은 라이브러리\n",
    "import pandas as minchae"
   ]
  },
  {
   "cell_type": "code",
   "execution_count": 8,
   "id": "published-algeria",
   "metadata": {},
   "outputs": [
    {
     "data": {
      "text/plain": [
       "'1.2.0'"
      ]
     },
     "execution_count": 8,
     "metadata": {},
     "output_type": "execute_result"
    }
   ],
   "source": [
    "minchae.__version__"
   ]
  },
  {
   "cell_type": "code",
   "execution_count": 10,
   "id": "complicated-founder",
   "metadata": {},
   "outputs": [],
   "source": [
    "# 라이브러리를 불러올 때 \n",
    "import os \n",
    "import sys\n",
    "# 이렇게 불러올 수 있지만\n",
    "import os, sys\n",
    "# 이렇게도 할 수 있습니다"
   ]
  },
  {
   "cell_type": "code",
   "execution_count": 11,
   "id": "cathedral-senator",
   "metadata": {},
   "outputs": [],
   "source": [
    "# 라이브러리안에 특정한 것만 뽑아 올 수도 있습니다\n",
    "# from ~ import ~\n",
    "from os import getcwd"
   ]
  },
  {
   "cell_type": "code",
   "execution_count": 12,
   "id": "permanent-helena",
   "metadata": {},
   "outputs": [
    {
     "data": {
      "text/plain": [
       "'/home/ssac1/minchae/others/for_python_basic_study/basic_notebooks'"
      ]
     },
     "execution_count": 12,
     "metadata": {},
     "output_type": "execute_result"
    }
   ],
   "source": [
    "# 앞에 라이브러리 선언없이 그냥 쓸 수 있죠\n",
    "getcwd()"
   ]
  },
  {
   "cell_type": "code",
   "execution_count": 13,
   "id": "broke-point",
   "metadata": {},
   "outputs": [],
   "source": [
    "# 라이브러리 안에서 모든 것을 다 뽑아오고 싶다면 ''' * ''' 을 쓰세요\n",
    "from os import *"
   ]
  },
  {
   "cell_type": "code",
   "execution_count": 16,
   "id": "disciplinary-apparatus",
   "metadata": {},
   "outputs": [],
   "source": [
    "# os의 모든 것을 다 가져왔습니다\n",
    "chdir(\"../../..\")"
   ]
  },
  {
   "cell_type": "code",
   "execution_count": 17,
   "id": "derived-syndrome",
   "metadata": {},
   "outputs": [
    {
     "data": {
      "text/plain": [
       "['AIFFEL_Exploration_reference', 'notebooks', 'nodes', 'pythons', 'others']"
      ]
     },
     "execution_count": 17,
     "metadata": {},
     "output_type": "execute_result"
    }
   ],
   "source": [
    "listdir()"
   ]
  },
  {
   "cell_type": "code",
   "execution_count": 18,
   "id": "crazy-crisis",
   "metadata": {},
   "outputs": [
    {
     "data": {
      "text/plain": [
       "'..'"
      ]
     },
     "execution_count": 18,
     "metadata": {},
     "output_type": "execute_result"
    }
   ],
   "source": [
    "pardir"
   ]
  },
  {
   "cell_type": "code",
   "execution_count": 19,
   "id": "excited-sheet",
   "metadata": {},
   "outputs": [
    {
     "data": {
      "text/plain": [
       "'.'"
      ]
     },
     "execution_count": 19,
     "metadata": {},
     "output_type": "execute_result"
    }
   ],
   "source": [
    "curdir"
   ]
  },
  {
   "cell_type": "markdown",
   "id": "joined-therapist",
   "metadata": {},
   "source": [
    "## 개인이 만든 모듈(.py)이 있다면 똑같이 import로 불러오면 됩니다, 다만 경로를 잘 맞춰야겠죠\n",
    "* 경로확인 할 때 os.getcwd() 로 현재 경로를 확인하고 같은 디렉토리안에 .py를 넣어주면 import 를 할 수 있습니다"
   ]
  }
 ],
 "metadata": {
  "kernelspec": {
   "display_name": "aiffel",
   "language": "python",
   "name": "aiffel"
  },
  "language_info": {
   "codemirror_mode": {
    "name": "ipython",
    "version": 3
   },
   "file_extension": ".py",
   "mimetype": "text/x-python",
   "name": "python",
   "nbconvert_exporter": "python",
   "pygments_lexer": "ipython3",
   "version": "3.7.9"
  }
 },
 "nbformat": 4,
 "nbformat_minor": 5
}
