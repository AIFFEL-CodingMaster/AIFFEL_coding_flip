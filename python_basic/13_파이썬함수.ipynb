{
 "cells": [
  {
   "cell_type": "markdown",
   "metadata": {},
   "source": [
    "# 함수만들기\n",
    "* 지금까지했던 문법들을 이렇게 저렇게 잘 활용해서 함수를 만듬\n",
    "    * input과 output이 존재하는 함수가 있고\n",
    "    * 둘 중에 하나만 있는 경우도 있고\n",
    "    * 둘 다 없는 경우도 있음\n",
    "    \n",
    "```python\n",
    "# input 과 output 둘 다 있는 경우 \n",
    "def 함수(input):\n",
    "    return output\n",
    "\n",
    "# output만 있는 경우\n",
    "def 함수():\n",
    "    return output\n",
    "\n",
    "# input만 있는 경우\n",
    "def 함수(input):\n",
    "    print(input)\n",
    "\n",
    "# input output 둘 다 없는 경우\n",
    "def 함수():\n",
    "    print(\"실행\")\n",
    "```\n",
    "\n",
    "* 함수 안에 들어가는 input을 argument라고하고 우리말로는 \"인자\"라고 함\n",
    "---\n",
    "* 함수의 실행\n",
    "```python\n",
    "함수()\n",
    "# return 값이 변수로 들어감\n",
    "변수 = 함수(input) \n",
    "```"
   ]
  },
  {
   "cell_type": "code",
   "execution_count": 1,
   "metadata": {},
   "outputs": [
    {
     "name": "stdout",
     "output_type": "stream",
     "text": [
      "1\n",
      "<class 'int'>\n",
      "1\n",
      "<class 'str'>\n"
     ]
    }
   ],
   "source": [
    "# input과 output이 있는 함수\n",
    "number = 1\n",
    "\n",
    "def int_to_str(num):\n",
    "    string_num = str(num)\n",
    "    return string_num\n",
    "\n",
    "string_number = int_to_str(number)\n",
    "print(number)\n",
    "print(type(number))\n",
    "print(string_number)\n",
    "print(type(string_number))"
   ]
  },
  {
   "cell_type": "code",
   "execution_count": 2,
   "metadata": {},
   "outputs": [
    {
     "data": {
      "text/plain": [
       "1.5335091001871066"
      ]
     },
     "execution_count": 2,
     "metadata": {},
     "output_type": "execute_result"
    }
   ],
   "source": [
    "# output만 있는 함수\n",
    "import random\n",
    "\n",
    "def random_float():\n",
    "    randint_1 = random.randint(0,999999)\n",
    "    randint_2 = random.randint(0,999999)\n",
    "    return randint_1 / randint_2\n",
    "random_float()"
   ]
  },
  {
   "cell_type": "code",
   "execution_count": 3,
   "metadata": {},
   "outputs": [
    {
     "name": "stdout",
     "output_type": "stream",
     "text": [
      "정민채\n"
     ]
    }
   ],
   "source": [
    "# 둘 다 없는 함수\n",
    "def print_my_name():\n",
    "    print(\"정민채\")\n",
    "print_my_name()"
   ]
  },
  {
   "cell_type": "markdown",
   "metadata": {},
   "source": [
    "#  함수의 세계 - 비함수의 세계\n",
    "* 함수의 인자값과 함수안에서 처음 생기는 변수는 함수 밖의 세계에 전혀 영향을 미치지 않음\n",
    "    * 함수 안에 생긴 변수를 '지역변수'\n",
    "    * 함수 밖에 변수를 '전역변수'\n",
    "* 전역변수는 지역변수에 영향을 미칠 수 있음"
   ]
  },
  {
   "cell_type": "code",
   "execution_count": 4,
   "metadata": {},
   "outputs": [
    {
     "name": "stdout",
     "output_type": "stream",
     "text": [
      "['난', '전', '역', '변', '수']\n",
      "['난', '전', '역', '변', '수', '난', '지', '역', '변', '수']\n"
     ]
    }
   ],
   "source": [
    "# 자 확인들어 갑시다\n",
    "# 전역변수 \n",
    "난전역변수 = [\"난\",\"전\",\"역\",\"변\",\"수\"]\n",
    "\n",
    "def check():\n",
    "    # 지역변수\n",
    "    난지역변수 = [\"난\",\"지\",\"역\",\"변\",\"수\"]\n",
    "    난두개더한거 = 난전역변수 + 난지역변수\n",
    "    # 두 개 더한거 return할게요\n",
    "    return 난두개더한거\n",
    "\n",
    "check = check()\n",
    "print(난전역변수)\n",
    "print(check)"
   ]
  },
  {
   "cell_type": "markdown",
   "metadata": {},
   "source": [
    "* 결과물을보면 전역변수가 지역변수와 더해진 것을 볼 수 있습니다. 전역변수가 함수안에서도 작동을 하죠\n",
    "* 그렇다면 지역변수를 확인해볼까요??"
   ]
  },
  {
   "cell_type": "code",
   "execution_count": 5,
   "metadata": {},
   "outputs": [
    {
     "ename": "NameError",
     "evalue": "name '난지역변수' is not defined",
     "output_type": "error",
     "traceback": [
      "\u001b[0;31m---------------------------------------------------------------------------\u001b[0m",
      "\u001b[0;31mNameError\u001b[0m                                 Traceback (most recent call last)",
      "\u001b[0;32m<ipython-input-5-b0db60a2a34d>\u001b[0m in \u001b[0;36m<module>\u001b[0;34m\u001b[0m\n\u001b[1;32m      1\u001b[0m \u001b[0;31m# 확인2\u001b[0m\u001b[0;34m\u001b[0m\u001b[0;34m\u001b[0m\u001b[0;34m\u001b[0m\u001b[0m\n\u001b[1;32m      2\u001b[0m \u001b[0;31m# 정의되지 않았다고 뜹니다 -> 함수안에서만 존재\u001b[0m\u001b[0;34m\u001b[0m\u001b[0;34m\u001b[0m\u001b[0;34m\u001b[0m\u001b[0m\n\u001b[0;32m----> 3\u001b[0;31m \u001b[0mprint\u001b[0m\u001b[0;34m(\u001b[0m\u001b[0m난지역변수\u001b[0m\u001b[0;34m)\u001b[0m\u001b[0;34m\u001b[0m\u001b[0;34m\u001b[0m\u001b[0m\n\u001b[0m",
      "\u001b[0;31mNameError\u001b[0m: name '난지역변수' is not defined"
     ]
    }
   ],
   "source": [
    "# 확인2\n",
    "# 정의되지 않았다고 뜹니다 -> 함수안에서만 존재\n",
    "print(난지역변수)"
   ]
  },
  {
   "cell_type": "code",
   "execution_count": 6,
   "metadata": {},
   "outputs": [
    {
     "ename": "NameError",
     "evalue": "name '난두개더한거' is not defined",
     "output_type": "error",
     "traceback": [
      "\u001b[0;31m---------------------------------------------------------------------------\u001b[0m",
      "\u001b[0;31mNameError\u001b[0m                                 Traceback (most recent call last)",
      "\u001b[0;32m<ipython-input-6-1edf8b7f6b2c>\u001b[0m in \u001b[0;36m<module>\u001b[0;34m\u001b[0m\n\u001b[1;32m      1\u001b[0m \u001b[0;31m# 난두개더한거 역시 지역변수 입니다, 함수안에서 만들어졌기 때문에\u001b[0m\u001b[0;34m\u001b[0m\u001b[0;34m\u001b[0m\u001b[0;34m\u001b[0m\u001b[0m\n\u001b[1;32m      2\u001b[0m \u001b[0;31m# 역시 정의되지 않았다고 뜹니다\u001b[0m\u001b[0;34m\u001b[0m\u001b[0;34m\u001b[0m\u001b[0;34m\u001b[0m\u001b[0m\n\u001b[0;32m----> 3\u001b[0;31m \u001b[0mprint\u001b[0m\u001b[0;34m(\u001b[0m\u001b[0m난두개더한거\u001b[0m\u001b[0;34m)\u001b[0m\u001b[0;34m\u001b[0m\u001b[0;34m\u001b[0m\u001b[0m\n\u001b[0m",
      "\u001b[0;31mNameError\u001b[0m: name '난두개더한거' is not defined"
     ]
    }
   ],
   "source": [
    "# 난두개더한거 역시 지역변수 입니다, 함수안에서 만들어졌기 때문에\n",
    "# 역시 정의되지 않았다고 뜹니다\n",
    "print(난두개더한거)"
   ]
  },
  {
   "cell_type": "markdown",
   "metadata": {},
   "source": [
    "# 인자의 특징\n",
    "* 인자를 여러개 넣어 줄 수 있음\n",
    "* default값을 정해줄 수 있음"
   ]
  },
  {
   "cell_type": "code",
   "execution_count": 7,
   "metadata": {},
   "outputs": [
    {
     "name": "stdout",
     "output_type": "stream",
     "text": [
      "정민채 퍼실\n"
     ]
    }
   ],
   "source": [
    "# 단어와 단어를 결합해주는 함수\n",
    "def merge_word(a, b):\n",
    "    word = a + b\n",
    "    return word\n",
    "word = merge_word(\"정민채 \", \"퍼실\")\n",
    "print(word)"
   ]
  },
  {
   "cell_type": "code",
   "execution_count": 8,
   "metadata": {},
   "outputs": [
    {
     "name": "stdout",
     "output_type": "stream",
     "text": [
      "3\n"
     ]
    }
   ],
   "source": [
    "# 하지만 인자 a, b의 타입이 정해져있지 않아요\n",
    "# 그 말은 ? 문자가 아닐 수도 있다 ??\n",
    "word = merge_word(1,2)\n",
    "print(word)"
   ]
  },
  {
   "cell_type": "code",
   "execution_count": 9,
   "metadata": {},
   "outputs": [
    {
     "name": "stdout",
     "output_type": "stream",
     "text": [
      "기본단어\n"
     ]
    }
   ],
   "source": [
    "# 어라? 난 문자만 되게 하고 싶은데?\n",
    "def merge_word(a = \"기본\", b=\"단어\"):\n",
    "    word = a + b\n",
    "    return word\n",
    "# 기본값이 정해져 있기 때문에 아무것도 넣지 않을 수 있음\n",
    "word = merge_word()\n",
    "print(word)"
   ]
  },
  {
   "cell_type": "code",
   "execution_count": 10,
   "metadata": {},
   "outputs": [
    {
     "name": "stdout",
     "output_type": "stream",
     "text": [
      "정민채 퍼실\n"
     ]
    }
   ],
   "source": [
    "# 단어를 바꿀 수도 있음\n",
    "word = merge_word(\"정민채 \", \"퍼실\")\n",
    "print(word)"
   ]
  },
  {
   "cell_type": "code",
   "execution_count": 11,
   "metadata": {},
   "outputs": [
    {
     "name": "stdout",
     "output_type": "stream",
     "text": [
      "3\n"
     ]
    }
   ],
   "source": [
    "# 하지만 여전히 숫자도 먹히는 것은 막을 수 없음\n",
    "word = merge_word(1,2)\n",
    "print(word)"
   ]
  },
  {
   "cell_type": "code",
   "execution_count": 12,
   "metadata": {},
   "outputs": [],
   "source": [
    "# 이렇게 만들어 줄 수 있다.\n",
    "def merge_word(a = \"기본\", b=\"단어\"):\n",
    "    word = a + b\n",
    "    if type(word) != str:\n",
    "        raise TypeError(\"a와 b는 문자여야 합니다\")\n",
    "    return word"
   ]
  },
  {
   "cell_type": "code",
   "execution_count": 13,
   "metadata": {},
   "outputs": [
    {
     "ename": "TypeError",
     "evalue": "a와 b는 문자여야 합니다",
     "output_type": "error",
     "traceback": [
      "\u001b[0;31m---------------------------------------------------------------------------\u001b[0m",
      "\u001b[0;31mTypeError\u001b[0m                                 Traceback (most recent call last)",
      "\u001b[0;32m<ipython-input-13-5a646fbf39bf>\u001b[0m in \u001b[0;36m<module>\u001b[0;34m\u001b[0m\n\u001b[0;32m----> 1\u001b[0;31m \u001b[0mword\u001b[0m \u001b[0;34m=\u001b[0m \u001b[0mmerge_word\u001b[0m\u001b[0;34m(\u001b[0m\u001b[0;36m1\u001b[0m\u001b[0;34m,\u001b[0m\u001b[0;36m2\u001b[0m\u001b[0;34m)\u001b[0m\u001b[0;34m\u001b[0m\u001b[0;34m\u001b[0m\u001b[0m\n\u001b[0m\u001b[1;32m      2\u001b[0m \u001b[0mprint\u001b[0m\u001b[0;34m(\u001b[0m\u001b[0mword\u001b[0m\u001b[0;34m)\u001b[0m\u001b[0;34m\u001b[0m\u001b[0;34m\u001b[0m\u001b[0m\n",
      "\u001b[0;32m<ipython-input-12-ad1cd7302ff8>\u001b[0m in \u001b[0;36mmerge_word\u001b[0;34m(a, b)\u001b[0m\n\u001b[1;32m      3\u001b[0m     \u001b[0mword\u001b[0m \u001b[0;34m=\u001b[0m \u001b[0ma\u001b[0m \u001b[0;34m+\u001b[0m \u001b[0mb\u001b[0m\u001b[0;34m\u001b[0m\u001b[0;34m\u001b[0m\u001b[0m\n\u001b[1;32m      4\u001b[0m     \u001b[0;32mif\u001b[0m \u001b[0mtype\u001b[0m\u001b[0;34m(\u001b[0m\u001b[0mword\u001b[0m\u001b[0;34m)\u001b[0m \u001b[0;34m!=\u001b[0m \u001b[0mstr\u001b[0m\u001b[0;34m:\u001b[0m\u001b[0;34m\u001b[0m\u001b[0;34m\u001b[0m\u001b[0m\n\u001b[0;32m----> 5\u001b[0;31m         \u001b[0;32mraise\u001b[0m \u001b[0mTypeError\u001b[0m\u001b[0;34m(\u001b[0m\u001b[0;34m\"a와 b는 문자여야 합니다\"\u001b[0m\u001b[0;34m)\u001b[0m\u001b[0;34m\u001b[0m\u001b[0;34m\u001b[0m\u001b[0m\n\u001b[0m\u001b[1;32m      6\u001b[0m     \u001b[0;32mreturn\u001b[0m \u001b[0mword\u001b[0m\u001b[0;34m\u001b[0m\u001b[0;34m\u001b[0m\u001b[0m\n",
      "\u001b[0;31mTypeError\u001b[0m: a와 b는 문자여야 합니다"
     ]
    }
   ],
   "source": [
    "word = merge_word(1,2)\n",
    "print(word)"
   ]
  },
  {
   "cell_type": "markdown",
   "metadata": {},
   "source": [
    "* default 인자를 지정하고 다음 인자를 아무것도 지정하지 않는 인자로 정할 수는 없음"
   ]
  },
  {
   "cell_type": "code",
   "execution_count": 14,
   "metadata": {},
   "outputs": [
    {
     "ename": "SyntaxError",
     "evalue": "non-default argument follows default argument (<ipython-input-14-4c1e8d4ff671>, line 1)",
     "output_type": "error",
     "traceback": [
      "\u001b[0;36m  File \u001b[0;32m\"<ipython-input-14-4c1e8d4ff671>\"\u001b[0;36m, line \u001b[0;32m1\u001b[0m\n\u001b[0;31m    def arguments_test(a=[1,2,3,], b):\u001b[0m\n\u001b[0m                      ^\u001b[0m\n\u001b[0;31mSyntaxError\u001b[0m\u001b[0;31m:\u001b[0m non-default argument follows default argument\n"
     ]
    }
   ],
   "source": [
    "def arguments_test(a=[1,2,3,], b):\n",
    "    print(a, b)"
   ]
  },
  {
   "cell_type": "code",
   "execution_count": 10,
   "metadata": {},
   "outputs": [],
   "source": [
    "# 이건 몰라도 됩니다 - 추후에 배울 것\n",
    "# 이런 것도 있다 경험\n",
    "# 데코레이터 : 함수를 꾸며주는 함수\n",
    "def 난데코레이터(함수):\n",
    "    def decorator(*args):\n",
    "        print(\"Hellow ~\")\n",
    "        리턴함수 = 함수(*args)\n",
    "        return 리턴함수\n",
    "    return decorator"
   ]
  },
  {
   "cell_type": "code",
   "execution_count": 11,
   "metadata": {},
   "outputs": [],
   "source": [
    "@난데코레이터\n",
    "def 난함수(a, b):\n",
    "    c = a * b\n",
    "    return c"
   ]
  },
  {
   "cell_type": "code",
   "execution_count": 12,
   "metadata": {},
   "outputs": [
    {
     "name": "stdout",
     "output_type": "stream",
     "text": [
      "Hellow ~\n"
     ]
    },
    {
     "data": {
      "text/plain": [
       "2"
      ]
     },
     "execution_count": 12,
     "metadata": {},
     "output_type": "execute_result"
    }
   ],
   "source": [
    "난함수(1,2)"
   ]
  }
 ],
 "metadata": {
  "kernelspec": {
   "display_name": "aiffel",
   "language": "python",
   "name": "aiffel"
  },
  "language_info": {
   "codemirror_mode": {
    "name": "ipython",
    "version": 3
   },
   "file_extension": ".py",
   "mimetype": "text/x-python",
   "name": "python",
   "nbconvert_exporter": "python",
   "pygments_lexer": "ipython3",
   "version": "3.7.9"
  }
 },
 "nbformat": 4,
 "nbformat_minor": 4
}
