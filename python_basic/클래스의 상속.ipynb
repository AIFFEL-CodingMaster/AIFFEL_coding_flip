{
 "cells": [
  {
   "cell_type": "markdown",
   "metadata": {},
   "source": [
    "# 클래스의 상속\n",
    "* 부모클래스가 자식클래스에게 속성과 메소드를 물려주는 것\n",
    "* 같은 기능을 가진 코드를 여러 번 짤 필요가 없기 때문에 물려받자\n",
    "* 상속이라고 표현하지만 사실상 자식이 부모의 것을 이용하는 것\n",
    "```python\n",
    "# 이런 식으로 표현\n",
    "class 자식클래스(부모클래스):\n",
    "    pass\n",
    "```"
   ]
  },
  {
   "cell_type": "code",
   "execution_count": 3,
   "metadata": {},
   "outputs": [],
   "source": [
    "class Phone:\n",
    "    phone_book = {}\n",
    "    \n",
    "    def call_someone(self, someone, someone_number):\n",
    "        print(f\"{someone}에게 전화를 겁니다\")\n",
    "        print(f\"{someone_number}\")\n",
    "    \n",
    "    def save_phone_number(self, name, phone_number):\n",
    "        self.phone_book[name] = phone_number\n",
    "        print(\"저장 완료\")"
   ]
  },
  {
   "cell_type": "code",
   "execution_count": 4,
   "metadata": {},
   "outputs": [],
   "source": [
    "# Phone클래스 상속 받기\n",
    "class SmartPhone(Phone):\n",
    "    # 클래스 변수 영역\n",
    "    # 클래스가 기본적으로 가지는 속성\n",
    "    where = \"main\"\n",
    "    power = 'off'\n",
    "    app_list = [\"시계\", \"달력\", \"카메라\", \"사진첩\"]\n",
    "    internet = \"off\"\n",
    "    \n",
    "    # 생성자 -> 클래스를 변수에 할당하여 인스턴스화 할 때 생성되는 변수를 받는 것\n",
    "    # 인스턴스 변수 생성 - > 인스턴스가 되기 전까지는 이 변수는 \"미지수\"\n",
    "    def __init__(self, company, model, color, waterproof):\n",
    "        self.company = company,\n",
    "        self.model = model,\n",
    "        self.color = color,\n",
    "        self.waterpoof = True\n",
    "        # 회사가 Apple일 경우 앱스토어 추가, 아닐 경우 구글스토어 추가\n",
    "        if company == \"Apple\":\n",
    "            self.app_list.append(\"앱스토어\")\n",
    "        else:\n",
    "            self.app_list.append(\"구글스토어\")\n",
    "    \n",
    "    # 스마트폰의 전원을 키거나 끄거나하는 액션\n",
    "    def power_on_or_off(self):\n",
    "        # 실행 시, 전원이 꺼져있으면 켜고, 켜져있으면 끄는 기능 \n",
    "        if self.power =='off':\n",
    "            self.power = 'on'\n",
    "            print('전원이 켜졌습니다')\n",
    "        elif self.power =='on':\n",
    "            self.power = 'off'\n",
    "            print('전원이 꺼졌습니다.')\n",
    "    \n",
    "    # 나의 앱 리스트 보여주기\n",
    "    def show_my_apps(self):\n",
    "        print(f\"나의 Apps : {self.app_list}\")\n",
    "        return self.app_list\n",
    "    \n",
    "    def connect_internet(self):\n",
    "        self.internet == \"on\"\n",
    "    \n",
    "    def app_download(self, app_name):\n",
    "        # open 앱스토어 or 구글스토어\n",
    "        if self.company == \"Apple\":\n",
    "            self.where = \"앱스토어\"\n",
    "        else:\n",
    "            self.where = \"구글스토어\"\n",
    "        \n",
    "        if self.internet =='on' and self.powewr =='on':\n",
    "        # App을 다운로드하고 app_list에 저장\n",
    "            print(f'{app_name} 을 다운로드 합니다.')\n",
    "            self.app_list.append(app_name)\n",
    "            # App 목록을 반환해보겠습니다.\n",
    "            return self.app_list\n",
    "        \n",
    "        elif self.power =='off':\n",
    "        # 전원이 꺼져있는데 실행을 시도하면 RuntimeError를 내도록해보겠습니다.\n",
    "            raise RuntimeError('전원을 확인하세요')\n",
    "        \n",
    "        # 인터넷 연결이 없는데 시도하면 연결 후 다운로드 시도\n",
    "        elif self.internet =='off':\n",
    "            while True:\n",
    "                ask = input('인터넷 연결이 없습니다. 연결하시겠습니까? yes or no')\n",
    "                if ask =='yes':\n",
    "                    self.connect_internet()\n",
    "                    print(f'{app_name} 을 다운로드 합니다.')\n",
    "                    self.app_list.append(app_name)\n",
    "                    return app_name\n",
    "                    break\n",
    "                elif ask =='no':\n",
    "                    print('다운로드 실패')\n",
    "                    break\n",
    "    def back_to_main(self):\n",
    "        self.where = \"main\"\n",
    "    \n",
    "    # method overriding\n",
    "    def call_someone(self, someone, someone_number):\n",
    "        self.where =\"통화중\"\n",
    "        print(f\"{someone}에게 전화를 겁니다\")\n",
    "        print(f\"{someone_number}\")"
   ]
  },
  {
   "cell_type": "code",
   "execution_count": 5,
   "metadata": {},
   "outputs": [],
   "source": [
    "iphone = SmartPhone(\"Apple\", \"Iphone8\", \"black\", True)"
   ]
  },
  {
   "cell_type": "code",
   "execution_count": 6,
   "metadata": {},
   "outputs": [
    {
     "name": "stdout",
     "output_type": "stream",
     "text": [
      "정민채에게 전화를 겁니다\n",
      "010-1234-5678\n"
     ]
    }
   ],
   "source": [
    "iphone.call_someone(\"정민채\",\"010-1234-5678\")"
   ]
  },
  {
   "cell_type": "code",
   "execution_count": 7,
   "metadata": {},
   "outputs": [
    {
     "data": {
      "text/plain": [
       "'통화중'"
      ]
     },
     "execution_count": 7,
     "metadata": {},
     "output_type": "execute_result"
    }
   ],
   "source": [
    "iphone.where"
   ]
  },
  {
   "cell_type": "code",
   "execution_count": 8,
   "metadata": {},
   "outputs": [
    {
     "data": {
      "text/plain": [
       "{}"
      ]
     },
     "execution_count": 8,
     "metadata": {},
     "output_type": "execute_result"
    }
   ],
   "source": [
    "iphone.phone_book"
   ]
  },
  {
   "cell_type": "code",
   "execution_count": 9,
   "metadata": {},
   "outputs": [
    {
     "name": "stdout",
     "output_type": "stream",
     "text": [
      "저장 완료\n"
     ]
    }
   ],
   "source": [
    "# 부모클래스의 save_phone_number 메소드를 사용할 수 있음 -> 상속 받았기 때문\n",
    "iphone.save_phone_number(\"정민채\", \"010-1234-5678\")"
   ]
  },
  {
   "cell_type": "code",
   "execution_count": 10,
   "metadata": {},
   "outputs": [
    {
     "data": {
      "text/plain": [
       "{'정민채': '010-1234-5678'}"
      ]
     },
     "execution_count": 10,
     "metadata": {},
     "output_type": "execute_result"
    }
   ],
   "source": [
    "# 전화번호부에 저장이 되었음\n",
    "iphone.phone_book"
   ]
  },
  {
   "cell_type": "code",
   "execution_count": null,
   "metadata": {},
   "outputs": [],
   "source": [
    "# 프로젝트 당시 사용했던 코드\n",
    "# utils.py\n",
    "from tensorflow.keras.callbacks import Callback\n",
    "from tensorflow.keras import backend as K \n",
    "import math\n",
    "\n",
    "class FoodDataPaths:\n",
    "    image_data_path = ''\n",
    "    food_dir_path = ''\n",
    "    tfr_path = ''\n",
    "    model_save_path = ''\n",
    "    models_dir = ''\n",
    "    test_image_path = ''\n",
    "\n",
    "\n",
    "    @classmethod\n",
    "    def make_img_food_path(cls, img_data_path, food_dir_path):\n",
    "        cls.image_data_path = img_data_path\n",
    "        cls.food_dir_path = food_dir_path\n",
    "    \n",
    "    @classmethod\n",
    "    def make_tfr_path(cls, tfr_path):\n",
    "        cls.tfr_path = tfr_path\n",
    "\n",
    "    @classmethod\n",
    "    def make_model_save_path(cls, model_save_path):\n",
    "        cls.model_save_path = model_save_path\n",
    "    \n",
    "    @classmethod\n",
    "    def make_models_dir(cls, models_dir):\n",
    "        cls.models_dir = models_dir\n",
    "\n",
    "    @classmethod\n",
    "    def make_test_image_path(cls, test_image_path):\n",
    "        cls.test_image_path = test_image_path\n",
    "\n",
    "\n",
    "class CosineAnnealingScheduler(Callback):\n",
    "    \"\"\"Cosine annealing scheduler.\n",
    "    \"\"\"\n",
    "\n",
    "    def __init__(self, T_max, eta_max, eta_min=0, verbose=0):\n",
    "        super(CosineAnnealingScheduler, self).__init__()\n",
    "        self.T_max = T_max\n",
    "        self.eta_max = eta_max\n",
    "        self.eta_min = eta_min\n",
    "        self.verbose = verbose\n",
    "\n",
    "    def on_epoch_begin(self, epoch, logs=None):\n",
    "        if not hasattr(self.model.optimizer, 'lr'):\n",
    "            raise ValueError('Optimizer must have a \"lr\" attribute.')\n",
    "        lr = self.eta_min + (self.eta_max - self.eta_min) * (1 + math.cos(math.pi * epoch / self.T_max)) / 2\n",
    "        K.set_value(self.model.optimizer.lr, lr)\n",
    "        if self.verbose > 0:\n",
    "            print('\\nEpoch %05d: CosineAnnealingScheduler setting learning '\n",
    "                  'rate to %s.' % (epoch + 1, lr))\n",
    "\n",
    "    def on_epoch_end(self, epoch, logs=None):\n",
    "        logs = logs or {}\n",
    "        logs['lr'] = K.get_value(self.model.optimizer.lr)"
   ]
  },
  {
   "cell_type": "code",
   "execution_count": null,
   "metadata": {},
   "outputs": [],
   "source": [
    "# prediction.py\n",
    "from tqdm import tqdm\n",
    "import tensorflow as tf \n",
    "import numpy as np \n",
    "from glob import glob\n",
    "from utils import FoodDataPaths\n",
    "\n",
    "np.random.seed(123)\n",
    "\n",
    "class Prediction(FoodDataPaths):\n",
    "\n",
    "    def _load_image(self, path, img_size) :\n",
    "        img = tf.io.read_file(path)\n",
    "        img = tf.image.decode_image(img, channels=3, expand_animations=False)\n",
    "        img = tf.image.resize(img, (img_size, img_size))\n",
    "\n",
    "        label = int(path.split('/')[-2].split('_')[-1])\n",
    "        return img, label\n",
    "\n",
    "    def predict_test(self, model, img_size, nums=0):\n",
    "        test_image_path = glob(self.test_image_path)\n",
    "        correct = 0\n",
    "        if nums == 0:\n",
    "            img_paths = test_image_path\n",
    "        else:\n",
    "            img_paths = np.random.choice(test_image_path, nums, replace=False)\n",
    "\n",
    "        for img_path in tqdm(img_paths):\n",
    "            img, label = self._load_image(img_path, img_size)\n",
    "            img = img[np.newaxis, :, :]\n",
    "            pred = int(np.argmax(model.predict(img)))\n",
    "\n",
    "            if pred == label:\n",
    "                correct += 1\n",
    "\n",
    "        print(f'정확도 : {round(correct / len(img_paths), 4) * 100}%')"
   ]
  }
 ],
 "metadata": {
  "kernelspec": {
   "display_name": "Python 3",
   "language": "python",
   "name": "python3"
  },
  "language_info": {
   "codemirror_mode": {
    "name": "ipython",
    "version": 3
   },
   "file_extension": ".py",
   "mimetype": "text/x-python",
   "name": "python",
   "nbconvert_exporter": "python",
   "pygments_lexer": "ipython3",
   "version": "3.7.3"
  }
 },
 "nbformat": 4,
 "nbformat_minor": 2
}
