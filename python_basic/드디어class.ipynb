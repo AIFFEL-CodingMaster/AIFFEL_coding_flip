{
 "cells": [
  {
   "cell_type": "markdown",
   "metadata": {},
   "source": [
    "# class\n",
    "* OOP의 꽃 class\n",
    "* class는 내가 구현하고 싶은 어떤 것(쉽게 생각해보면 명사로 표현되는 것)을 지금까지 다뤘던 문법을 이용해서 구현하는 것이라고 생각하면 됩니다\n",
    "* 변수와 함수를 활용해서 한 번 만들어보죠\n",
    "* class안에 함수는 **\"메소드\"** 라고도 부릅니다\n",
    "* class를 인스턴스화 할때 아래처럼 했었죠?!\n",
    "```python\n",
    "# 클래스(객체)를 변수에 담음\n",
    "변수 = 클래스()\n",
    "```\n",
    "* 인스턴스는 클래스가 가진 메소드를 전부 사용가능\n",
    "```python\n",
    "# 인스턴스.메소드()\n",
    "변수.메소드()\n",
    "```\n",
    "* 클래스는 변수도 가질 수 있습니다\n",
    "* 변수사용은 이렇게\n",
    "```python\n",
    "# 메소드와는 다르게 ()가 없습니다\n",
    "변수.클래스가가진변수\n",
    "```\n",
    "* 구현은 아래 처럼\n",
    "```python\n",
    "# object는 써도 되고 안써도 되고\n",
    "class 클래스(object):\n",
    "    def 메소드(self):\n",
    "        pass\n",
    "# 메소드에 self는 거의 있어야 함, 물론 없을 수도 있긴 있음\n",
    "class 클래스:\n",
    "    def 메소드(self):\n",
    "        pass\n",
    "```\n",
    "* 클래스는 명사라고 했죠?! -> 클래스의 메소드는 그 명사가 취할 수 있는 동사, 형용사 느낌으로 생각하면 좀 쉽습니다\n",
    "```python\n",
    "# example\n",
    "class DataFrame:\n",
    "    def head(self):\n",
    "        위에서네줄 = 어떤코드\n",
    "        print(위에서네줄)\n",
    "```\n",
    "* DataFrame : 데이터프레임(명사) , DataFrame.head() : head를 보여주다(동사)\n",
    "* **클래스와 관련해서 더 많은 내용이 있지만 차차 해나가시죠**"
   ]
  },
  {
   "cell_type": "code",
   "execution_count": null,
   "metadata": {},
   "outputs": [],
   "source": []
  }
 ],
 "metadata": {
  "kernelspec": {
   "display_name": "aiffel",
   "language": "python",
   "name": "aiffel"
  },
  "language_info": {
   "codemirror_mode": {
    "name": "ipython",
    "version": 3
   },
   "file_extension": ".py",
   "mimetype": "text/x-python",
   "name": "python",
   "nbconvert_exporter": "python",
   "pygments_lexer": "ipython3",
   "version": "3.7.9"
  }
 },
 "nbformat": 4,
 "nbformat_minor": 4
}
