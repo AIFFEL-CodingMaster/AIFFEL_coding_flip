{
 "cells": [
  {
   "cell_type": "markdown",
   "metadata": {},
   "source": [
    "# class\n",
    "* OOP의 꽃 class\n",
    "* class는 내가 구현하고 싶은 어떤 것(쉽게 생각해보면 명사로 표현되는 것)을 지금까지 다뤘던 문법을 이용해서 구현하는 것이라고 생각하면 됩니다\n",
    "* 변수와 함수를 활용해서 한 번 만들어보죠\n",
    "* class안에 함수는 **\"메소드\"** 라고도 부릅니다\n",
    "* class를 인스턴스화 할때 아래처럼 했었죠?!\n",
    "```python\n",
    "# 클래스(객체)를 변수에 담음\n",
    "변수 = 클래스()\n",
    "```\n",
    "* 인스턴스는 클래스가 가진 메소드를 전부 사용가능\n",
    "```python\n",
    "# 인스턴스.메소드()\n",
    "변수.메소드()\n",
    "```\n",
    "* 클래스는 변수도 가질 수 있습니다\n",
    "* 변수사용은 이렇게\n",
    "```python\n",
    "# 메소드와는 다르게 ()가 없습니다\n",
    "변수.클래스가가진변수\n",
    "```\n",
    "* 구현은 아래 처럼\n",
    "```python\n",
    "# object는 써도 되고 안써도 되고\n",
    "class 클래스(object):\n",
    "    def 메소드(self):\n",
    "        pass\n",
    "# 메소드에 self는 거의 있어야 함, 물론 없을 수도 있긴 있음\n",
    "class 클래스:\n",
    "    def 메소드(self):\n",
    "        pass\n",
    "```\n",
    "* 클래스는 명사라고 했죠?! -> 클래스의 메소드는 그 명사가 취할 수 있는 동사, 형용사 느낌으로 생각하면 좀 쉽습니다\n",
    "```python\n",
    "# example\n",
    "class DataFrame:\n",
    "    def head(self):\n",
    "        위에서네줄 = 어떤코드\n",
    "        print(위에서네줄)\n",
    "```\n",
    "* DataFrame : 데이터프레임(명사) , DataFrame.head() : head를 보여주다(동사)\n",
    "* **클래스와 관련해서 더 많은 내용이 있지만 차차 해나가시죠**"
   ]
  },
  {
   "cell_type": "markdown",
   "metadata": {},
   "source": [
    "## 클래스-2\n",
    "### 구성 \n",
    "* 클래스 변수\n",
    "* 인스턴스 변수\n",
    "    * [클래스변수, 인스턴스변수] -> 클래스 or 인스턴스가 가지는 속성\n",
    "* 메소드 -> 클래스의 기능 -> 어떤 액션"
   ]
  },
  {
   "cell_type": "code",
   "execution_count": 16,
   "metadata": {},
   "outputs": [],
   "source": [
    "# 스마트폰이라는 임의의 클래스를 만들어보겠습니다\n",
    "# 클래스의 작동원리를 코드로 이해해보기 위해서 입니다\n",
    "# 1\n",
    "# 클래스 이름\n",
    "class SmartPhone:\n",
    "    # 클래스 변수 영역\n",
    "    # 클래스가 기본적으로 가지는 속성\n",
    "    where = \"main\"\n",
    "    power = 'off'\n",
    "    app_list = [\"시계\", \"달력\", \"카메라\", \"사진첩\"]\n",
    "    internet = \"off\"\n",
    "    \n",
    "    # 생성자 -> 클래스를 변수에 할당하여 인스턴스화 할 때 생성되는 변수를 받는 것\n",
    "    # 인스턴스 변수 생성 - > 인스턴스가 되기 전까지는 이 변수는 \"미지수\"\n",
    "    def __init__(self, company, model, color, waterproof):\n",
    "        self.company = company,\n",
    "        self.model = model,\n",
    "        self.color = color,\n",
    "        self.waterpoof = True\n",
    "        # 회사가 Apple일 경우 앱스토어 추가, 아닐 경우 구글스토어 추가\n",
    "        if company == \"Apple\":\n",
    "            self.app_list.append(\"앱스토어\")\n",
    "        else:\n",
    "            self.app_list.append(\"구글스토어\")\n",
    "    \n",
    "    # 스마트폰의 전원을 키거나 끄거나하는 액션\n",
    "    def power_on_or_off(self):\n",
    "        # 실행 시, 전원이 꺼져있으면 켜고, 켜져있으면 끄는 기능 \n",
    "        if self.power =='off':\n",
    "            self.power = 'on'\n",
    "            print('전원이 켜졌습니다')\n",
    "        elif self.power =='on':\n",
    "            self.power = 'off'\n",
    "            print('전원이 꺼졌습니다.')\n",
    "    \n",
    "    # 나의 앱 리스트 보여주기\n",
    "    def show_my_apps(self):\n",
    "        print(f\"나의 Apps : {self.app_list}\")\n",
    "        return self.app_list\n",
    "    \n",
    "    def connect_internet(self):\n",
    "        self.internet == \"on\"\n",
    "    \n",
    "    def app_download(self, app_name):\n",
    "        # open 앱스토어 or 구글스토어\n",
    "        if self.company == \"Apple\":\n",
    "            self.where = \"앱스토어\"\n",
    "        else:\n",
    "            self.where = \"구글스토어\"\n",
    "        \n",
    "        if self.internet =='on' and self.powewr =='on':\n",
    "        # App을 다운로드하고 app_list에 저장\n",
    "            print(f'{app_name} 을 다운로드 합니다.')\n",
    "            self.app_list.append(app_name)\n",
    "            # App 목록을 반환해보겠습니다.\n",
    "            return self.app_list\n",
    "        \n",
    "        elif self.power =='off':\n",
    "        # 전원이 꺼져있는데 실행을 시도하면 RuntimeError를 내도록해보겠습니다.\n",
    "            raise RuntimeError('전원을 확인하세요')\n",
    "        \n",
    "        # 인터넷 연결이 없는데 시도하면 연결 후 다운로드 시도\n",
    "        elif self.internet =='off':\n",
    "            while True:\n",
    "                ask = input('인터넷 연결이 없습니다. 연결하시겠습니까? yes or no')\n",
    "                if ask =='yes':\n",
    "                    self.connect_internet()\n",
    "                    print(f'{app_name} 을 다운로드 합니다.')\n",
    "                    self.app_list.append(app_name)\n",
    "                    return app_name\n",
    "                    break\n",
    "                elif ask =='no':\n",
    "                    print('다운로드 실패')\n",
    "                    break\n",
    "    def back_to_main(self):\n",
    "        self.where = \"main\""
   ]
  },
  {
   "cell_type": "code",
   "execution_count": 17,
   "metadata": {},
   "outputs": [],
   "source": [
    "iphone = SmartPhone(\"Apple\", \"Iphone8\", \"black\", True)"
   ]
  },
  {
   "cell_type": "code",
   "execution_count": 18,
   "metadata": {},
   "outputs": [
    {
     "name": "stdout",
     "output_type": "stream",
     "text": [
      "전원이 켜졌습니다\n"
     ]
    }
   ],
   "source": [
    "iphone.power_on_or_off()"
   ]
  },
  {
   "cell_type": "code",
   "execution_count": 19,
   "metadata": {},
   "outputs": [
    {
     "name": "stdout",
     "output_type": "stream",
     "text": [
      "나의 Apps : ['시계', '달력', '카메라', '사진첩', '앱스토어']\n"
     ]
    }
   ],
   "source": [
    "my_apps = iphone.show_my_apps()"
   ]
  },
  {
   "cell_type": "code",
   "execution_count": 20,
   "metadata": {},
   "outputs": [
    {
     "name": "stdout",
     "output_type": "stream",
     "text": [
      "인터넷 연결이 없습니다. 연결하시겠습니까? yes or noyes\n",
      "카카오톡 을 다운로드 합니다.\n"
     ]
    }
   ],
   "source": [
    "new_app = iphone.app_download(\"카카오톡\")"
   ]
  },
  {
   "cell_type": "code",
   "execution_count": 21,
   "metadata": {},
   "outputs": [
    {
     "name": "stdout",
     "output_type": "stream",
     "text": [
      "나의 Apps : ['시계', '달력', '카메라', '사진첩', '앱스토어', '카카오톡']\n"
     ]
    },
    {
     "data": {
      "text/plain": [
       "['시계', '달력', '카메라', '사진첩', '앱스토어', '카카오톡']"
      ]
     },
     "execution_count": 21,
     "metadata": {},
     "output_type": "execute_result"
    }
   ],
   "source": [
    "iphone.show_my_apps()"
   ]
  }
 ],
 "metadata": {
  "kernelspec": {
   "display_name": "Python 3",
   "language": "python",
   "name": "python3"
  },
  "language_info": {
   "codemirror_mode": {
    "name": "ipython",
    "version": 3
   },
   "file_extension": ".py",
   "mimetype": "text/x-python",
   "name": "python",
   "nbconvert_exporter": "python",
   "pygments_lexer": "ipython3",
   "version": "3.7.3"
  }
 },
 "nbformat": 4,
 "nbformat_minor": 4
}
