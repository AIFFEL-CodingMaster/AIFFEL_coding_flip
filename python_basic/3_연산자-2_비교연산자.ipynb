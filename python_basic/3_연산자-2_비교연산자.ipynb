{
 "cells": [
  {
   "cell_type": "markdown",
   "metadata": {},
   "source": [
    "# 비교연산자\n",
    "* 말 그대로 비교를 할 때 필요한 연산자\n",
    "    * ==\n",
    "    * !=\n",
    "    * \\>\n",
    "    * <\n",
    "    * \\>= \n",
    "    * <="
   ]
  },
  {
   "cell_type": "code",
   "execution_count": 1,
   "metadata": {},
   "outputs": [
    {
     "name": "stdout",
     "output_type": "stream",
     "text": [
      "True\n",
      "False\n"
     ]
    }
   ],
   "source": [
    "# '==' 같은지 비교할 때 \n",
    "# 같으면 True 다르면 False\n",
    "number_1 = 10\n",
    "number_2 = 10\n",
    "print(number_1 == number_2)\n",
    "# number_2를 11로 바꾸면?\n",
    "number_2 = 11\n",
    "print(number_1 == number_2)"
   ]
  },
  {
   "cell_type": "code",
   "execution_count": 2,
   "metadata": {},
   "outputs": [
    {
     "name": "stdout",
     "output_type": "stream",
     "text": [
      "False\n",
      "True\n"
     ]
    }
   ],
   "source": [
    "# '!=' 다른지 비교할 때\n",
    "# 다르면 True 같으면 False\n",
    "number_3 = 100\n",
    "number_4 = 100\n",
    "print(number_3 != number_4)\n",
    "# number_4를 101로 바꾸면?\n",
    "number_4 = 101\n",
    "print(number_3 != number_4)"
   ]
  },
  {
   "cell_type": "code",
   "execution_count": 3,
   "metadata": {},
   "outputs": [
    {
     "name": "stdout",
     "output_type": "stream",
     "text": [
      "False\n",
      "False\n",
      "True\n",
      "True\n"
     ]
    }
   ],
   "source": [
    "# '>' '>=' 딱 봐도 부등호\n",
    "# 맞으면 True 틀리면 False\n",
    "number_5 = 1000\n",
    "number_6 = 2000\n",
    "print(number_5 > number_6) # False 1000이 2000보다 작습니다\n",
    "print(number_5 >= number_6) # number_5가 number_6보다 크거나 같은지?? \n",
    "# 변수의 위치를 바꿔주면 ? 당연히 True\n",
    "print(number_6 > number_5)\n",
    "print(number_6 > number_5)\n",
    "# '<', '<=' 요놈들은 설명 생략"
   ]
  },
  {
   "cell_type": "markdown",
   "metadata": {},
   "source": [
    "# 숫자만 비교 가능한가?\n",
    "* 문자열을 비롯한 다른 DataType도 다 비교 가능합니다"
   ]
  },
  {
   "cell_type": "code",
   "execution_count": 4,
   "metadata": {},
   "outputs": [
    {
     "name": "stdout",
     "output_type": "stream",
     "text": [
      "True\n",
      "True\n",
      "True\n"
     ]
    }
   ],
   "source": [
    "# 이렇게 비교가능\n",
    "print('ㅁ' == 'ㅁ')\n",
    "print(['^오^'] != \"이것은 문자열\")\n",
    "print({1,2,\"삼\"} != {2,3,4})"
   ]
  },
  {
   "cell_type": "code",
   "execution_count": 5,
   "metadata": {},
   "outputs": [
    {
     "name": "stdout",
     "output_type": "stream",
     "text": [
      "True\n"
     ]
    }
   ],
   "source": [
    "# 문자열이 같고 다른것은 이해할 수 있지만 크고 작고를 비교할 수 있나?\n",
    "# 아래는 True가 나오는데 이것은 basic 이후에 ~\n",
    "print(\"a\" > \"A\") # True"
   ]
  },
  {
   "cell_type": "code",
   "execution_count": 6,
   "metadata": {},
   "outputs": [
    {
     "name": "stdout",
     "output_type": "stream",
     "text": [
      "0\n"
     ]
    }
   ],
   "source": [
    "# 비교연산으로 menu에 있는 원소들을 한 번씩만 사용해서 answer를 0으로 만들기\n",
    "# like this\n",
    "menu = [\"ABC\",1,10,\"ABC\"]\n",
    "answer_1 = menu[0] == menu[1]\n",
    "answer_2 = menu[2] == menu[3]\n",
    "\n",
    "answer = answer_1 + answer_2\n",
    "print(answer)"
   ]
  },
  {
   "cell_type": "code",
   "execution_count": 7,
   "metadata": {},
   "outputs": [],
   "source": [
    "# 문제\n",
    "# 위에 예시처럼 menu와 비교연산자를 사용하여 answer에 3출력되게 하기\n",
    "munu = [5, 5, 123, 456, [\"가나다라\"],[\"가나다라\"], '123','456']\n",
    "answer_1 =\n",
    "answer_2 = \n",
    "answer_3 = \n",
    "answer_4 = \n",
    "answer_5 = \n",
    "\n",
    "answer = answer_1 + answer_2 + answer_3 + answer_4 + answer_5\n",
    "print(answer)"
   ]
  }
 ],
 "metadata": {
  "kernelspec": {
   "display_name": "Python 3",
   "language": "python",
   "name": "python3"
  },
  "language_info": {
   "codemirror_mode": {
    "name": "ipython",
    "version": 3
   },
   "file_extension": ".py",
   "mimetype": "text/x-python",
   "name": "python",
   "nbconvert_exporter": "python",
   "pygments_lexer": "ipython3",
   "version": "3.7.3"
  }
 },
 "nbformat": 4,
 "nbformat_minor": 2
}
