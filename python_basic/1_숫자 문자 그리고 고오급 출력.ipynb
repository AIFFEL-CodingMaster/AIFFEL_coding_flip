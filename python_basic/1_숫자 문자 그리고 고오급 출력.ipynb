{
 "cells": [
  {
   "cell_type": "markdown",
   "metadata": {},
   "source": [
    "# 숫자\n",
    "* 파이썬의 DataType[자료유형] 중에 숫자를 나타내는 것\n",
    "    * int : 정수\n",
    "    * float : 실수\n",
    "* 다른 언어에는 숫자 DatatType이 더 있습니다만..."
   ]
  },
  {
   "cell_type": "code",
   "execution_count": 9,
   "metadata": {},
   "outputs": [],
   "source": [
    "number_1 = 1 #\n",
    "number_2 = 1.0"
   ]
  },
  {
   "cell_type": "code",
   "execution_count": 21,
   "metadata": {},
   "outputs": [
    {
     "name": "stdout",
     "output_type": "stream",
     "text": [
      "number_1은 : 1\n",
      "number_2는 : 1.0\n",
      "number_1의 type  <class 'int'>\n",
      "number_1의 type  <class 'float'>\n"
     ]
    }
   ],
   "source": [
    "print(\"number_1은 :\",number_1)\n",
    "print(\"number_2는 :\",number_2)\n",
    "print(\"number_1의 type \", type(number_1))\n",
    "print(\"number_1의 type \", type(number_2))"
   ]
  },
  {
   "cell_type": "markdown",
   "metadata": {},
   "source": [
    "# 문자\n",
    "* 문자를 나타내는 DataType\n",
    "* 영어가 될 수도 한국어가 될 수도 그 어떤 언어가 될 수도 있음\n",
    "* 특수문자도 포함, 숫자도 문자로 나타낼 수 있음\n",
    "    * str : 문자형\n",
    "    * \" \" or ' '를 씌워서 나타냄"
   ]
  },
  {
   "cell_type": "code",
   "execution_count": 22,
   "metadata": {},
   "outputs": [],
   "source": [
    "string_1 = \"가나다라마바사\"\n",
    "string_2 = 'abcdefg'\n",
    "string_3 = \"가나ab다라cd\"\n",
    "string_4 = '!@#!#!#%%asdafd123123'"
   ]
  },
  {
   "cell_type": "code",
   "execution_count": 23,
   "metadata": {},
   "outputs": [
    {
     "name": "stdout",
     "output_type": "stream",
     "text": [
      "string_1의 type  <class 'str'>\n",
      "string_2의 type  <class 'str'>\n",
      "string_3의 type  <class 'str'>\n",
      "string_4의 type  <class 'str'>\n"
     ]
    }
   ],
   "source": [
    "print(\"string_1의 type \", type(string_1))\n",
    "print(\"string_2의 type \", type(string_2))\n",
    "print(\"string_3의 type \", type(string_3))\n",
    "print(\"string_4의 type \", type(string_4))"
   ]
  },
  {
   "cell_type": "markdown",
   "metadata": {},
   "source": [
    "# 고오급 출력\n",
    "* 한 줄로 출력하기\n",
    "* 소수점 자리제한 출력\n",
    "* 문자 고급 출력"
   ]
  },
  {
   "cell_type": "code",
   "execution_count": 28,
   "metadata": {},
   "outputs": [
    {
     "name": "stdout",
     "output_type": "stream",
     "text": [
      "abcdefgh\n",
      "abcd efgh ijkl\n"
     ]
    }
   ],
   "source": [
    "# 한 줄 출력\n",
    "print('abcd', end=\"\")\n",
    "print('efgh')\n",
    "# 한 칸 띄우고 출력\n",
    "print(\"abcd\", end=\" \")\n",
    "print(\"efgh\", end=\" \")\n",
    "print(\"ijkl\")"
   ]
  },
  {
   "cell_type": "code",
   "execution_count": 34,
   "metadata": {},
   "outputs": [
    {
     "name": "stdout",
     "output_type": "stream",
     "text": [
      "1.23\n",
      "1.235\n",
      "3.14\n"
     ]
    }
   ],
   "source": [
    "# 2자리 - 3 번째 자리에서 반올림\n",
    "print(\"%.2f\" % 1.23456789)\n",
    "# 3자리 - 4 번째 자리에서 반올림\n",
    "print(\"%.3f\" % 1.23456789)\n",
    "# 변수명으로 넣기\n",
    "pi = 3.141592\n",
    "print(\"%.2f\" %pi)"
   ]
  },
  {
   "cell_type": "code",
   "execution_count": 38,
   "metadata": {},
   "outputs": [
    {
     "name": "stdout",
     "output_type": "stream",
     "text": [
      "나는 10시에 집에 간다\n",
      "나는 10시에 집에 간다\n",
      "나는 10시에 집에 간다\n"
     ]
    }
   ],
   "source": [
    "# 문자 고급 출력\n",
    "when = 10\n",
    "where = \"집\"\n",
    "print(\"나는 %d시에 %s에 간다\"%(when,where)) # %d: digit %s: string\n",
    "print(\"나는 {}시에 {}에 간다\".format(when,where)) # {}안에 format(변수)를 출력\n",
    "print(f\"나는 {when}시에 {where}에 간다\") # {변수} 출력"
   ]
  },
  {
   "cell_type": "markdown",
   "metadata": {},
   "source": [
    "* f\"\" style이 가장 최신이고 편리함 -> 이 방법을 쓰는 것을 추천해유"
   ]
  },
  {
   "cell_type": "markdown",
   "metadata": {},
   "source": [
    "# f\"\" 을 사용해서 출력해보기"
   ]
  },
  {
   "cell_type": "code",
   "execution_count": null,
   "metadata": {},
   "outputs": [],
   "source": [
    "when = \n",
    "where = \n",
    "why = \n",
    "print(f\"\")"
   ]
  }
 ],
 "metadata": {
  "kernelspec": {
   "display_name": "Python 3",
   "language": "python",
   "name": "python3"
  },
  "language_info": {
   "codemirror_mode": {
    "name": "ipython",
    "version": 3
   },
   "file_extension": ".py",
   "mimetype": "text/x-python",
   "name": "python",
   "nbconvert_exporter": "python",
   "pygments_lexer": "ipython3",
   "version": "3.7.3"
  }
 },
 "nbformat": 4,
 "nbformat_minor": 2
}
