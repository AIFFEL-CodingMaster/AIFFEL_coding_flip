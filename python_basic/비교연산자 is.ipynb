{
 "cells": [
  {
   "cell_type": "markdown",
   "metadata": {},
   "source": [
    "# is 비교\n",
    "* 영어 be 동사 ~이다\n",
    "* python에서 a is b : a는 b이다, 맞으면 True 틀리면 False\n",
    "---\n",
    "* == 과의 차이점\n",
    "    * == 단순히 값만 비교\n",
    "    * is 는 객체를 비교\n",
    "        * 객체를 비교한다는게 무슨 말?\n",
    "            * 우리가 만드는 코드(객체)는 메모리 어딘가에 저장됨\n",
    "            * 메모리 마다 유일한 주소값(정수형태)을 가지고 있음\n",
    "            * 메모리 값을 비교하는 것임"
   ]
  },
  {
   "cell_type": "code",
   "execution_count": 1,
   "metadata": {},
   "outputs": [],
   "source": [
    "# 비교 가보자잇\n",
    "a = [1,2,3]\n",
    "b = 100\n",
    "c = 100.0"
   ]
  },
  {
   "cell_type": "code",
   "execution_count": 2,
   "metadata": {},
   "outputs": [
    {
     "name": "stdout",
     "output_type": "stream",
     "text": [
      "2035156419272\n",
      "140731574099872\n",
      "2035156559264\n"
     ]
    }
   ],
   "source": [
    "# 각 변수의 메모리 주소 값을 찾는 법 : id()\n",
    "print(id(a))\n",
    "print(id(b))\n",
    "print(id(c))\n",
    "# 3개의 변수가 다 메모리 주소값이 다르네요"
   ]
  },
  {
   "cell_type": "code",
   "execution_count": 3,
   "metadata": {},
   "outputs": [
    {
     "name": "stdout",
     "output_type": "stream",
     "text": [
      "False\n",
      "False\n",
      "False\n"
     ]
    }
   ],
   "source": [
    "# is로 비교\n",
    "print(a is b)\n",
    "print(a is c)\n",
    "print(b is c)\n",
    "# 주소값이 다 다르기 때문에 모두 False가 출력됨"
   ]
  },
  {
   "cell_type": "code",
   "execution_count": 4,
   "metadata": {},
   "outputs": [
    {
     "name": "stdout",
     "output_type": "stream",
     "text": [
      "True\n"
     ]
    }
   ],
   "source": [
    "# b와 c는 값을 비교 했을때는 같음\n",
    "print(b == c)\n",
    "# 1과 1.0이지만 값의 크기만 비교하는 것이기 때문에 같음"
   ]
  },
  {
   "cell_type": "code",
   "execution_count": 5,
   "metadata": {},
   "outputs": [
    {
     "name": "stdout",
     "output_type": "stream",
     "text": [
      "True\n",
      "True\n",
      "True\n"
     ]
    }
   ],
   "source": [
    "# is 부정 \n",
    "# is not ~이 아니다\n",
    "print(a is not b)\n",
    "print(a is not c)\n",
    "print(b is not c)\n",
    "# 모두 True"
   ]
  },
  {
   "cell_type": "code",
   "execution_count": 6,
   "metadata": {},
   "outputs": [
    {
     "name": "stdout",
     "output_type": "stream",
     "text": [
      "False\n"
     ]
    }
   ],
   "source": [
    "# a is d는 True일까?\n",
    "d = [1,2,3]\n",
    "print(a is d)"
   ]
  },
  {
   "cell_type": "code",
   "execution_count": 7,
   "metadata": {},
   "outputs": [
    {
     "name": "stdout",
     "output_type": "stream",
     "text": [
      "True\n"
     ]
    }
   ],
   "source": [
    "# 우리가 만드는 변수는 값이 같아도 다른 메모리 주소값을 가지기 때문에 False가 나온 것\n",
    "# a is d가 True가 나오게 만드는 법\n",
    "d = a\n",
    "print(a is d)"
   ]
  },
  {
   "cell_type": "code",
   "execution_count": 8,
   "metadata": {},
   "outputs": [
    {
     "name": "stdout",
     "output_type": "stream",
     "text": [
      "2035156419272\n",
      "2035156419272\n"
     ]
    }
   ],
   "source": [
    "# 주소값 확인\n",
    "print(id(a))\n",
    "print(id(d))"
   ]
  },
  {
   "cell_type": "code",
   "execution_count": 9,
   "metadata": {},
   "outputs": [],
   "source": [
    "# c is e가 True가 나오게 만들어 보기\n",
    "e = \n",
    "print(c is e)"
   ]
  }
 ],
 "metadata": {
  "kernelspec": {
   "display_name": "Python 3",
   "language": "python",
   "name": "python3"
  },
  "language_info": {
   "codemirror_mode": {
    "name": "ipython",
    "version": 3
   },
   "file_extension": ".py",
   "mimetype": "text/x-python",
   "name": "python",
   "nbconvert_exporter": "python",
   "pygments_lexer": "ipython3",
   "version": "3.7.3"
  }
 },
 "nbformat": 4,
 "nbformat_minor": 2
}
