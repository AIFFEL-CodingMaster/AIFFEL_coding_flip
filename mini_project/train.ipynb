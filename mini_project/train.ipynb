{
 "cells": [
  {
   "cell_type": "code",
   "execution_count": 3,
   "id": "optimum-following",
   "metadata": {
    "scrolled": true
   },
   "outputs": [
    {
     "name": "stdout",
     "output_type": "stream",
     "text": [
      "2021-04-06 11:08:37.747275: I tensorflow/compiler/jit/xla_cpu_device.cc:41] Not creating XLA devices, tf_xla_enable_xla_devices not set\n",
      "2021-04-06 11:08:37.747613: I tensorflow/core/platform/cpu_feature_guard.cc:142] This TensorFlow binary is optimized with oneAPI Deep Neural Network Library (oneDNN) to use the following CPU instructions in performance-critical operations:  AVX2 FMA\n",
      "To enable them in other operations, rebuild TensorFlow with the appropriate compiler flags.\n",
      "2021-04-06 11:08:37.860884: I tensorflow/compiler/mlir/mlir_graph_optimization_pass.cc:116] None of the MLIR optimization passes are enabled (registered 2)\n",
      "  2/230 [..............................] - ETA: 12:33 - loss: 4.0819 - accuracy: 0.0859^C\n"
     ]
    }
   ],
   "source": [
    "!python main.py \\\n",
    "--mode=train \\\n",
    "--tfr_path=./tfrecord_data.tfr \\\n",
    "--data_path=../images/ \\\n",
    "--epoch=1 \\\n",
    "--batch_size=32 \\\n",
    "--patience=1 \\\n",
    "--model_path=./model.h5 \\\n",
    "--train_size_rate=0.8 \\\n",
    "--model_name=e0 \\\n",
    "--add_layer=dense,batch,dense \\\n",
    "--dense_nums=1024,37 \\\n",
    "--dense_activation=relu,n \\\n",
    "--hist_path=./hist.pkl"
   ]
  },
  {
   "cell_type": "code",
   "execution_count": null,
   "id": "aggregate-track",
   "metadata": {},
   "outputs": [],
   "source": []
  }
 ],
 "metadata": {
  "kernelspec": {
   "display_name": "cv_env",
   "language": "python",
   "name": "cv_env"
  },
  "language_info": {
   "codemirror_mode": {
    "name": "ipython",
    "version": 3
   },
   "file_extension": ".py",
   "mimetype": "text/x-python",
   "name": "python",
   "nbconvert_exporter": "python",
   "pygments_lexer": "ipython3",
   "version": "3.7.10"
  }
 },
 "nbformat": 4,
 "nbformat_minor": 5
}
