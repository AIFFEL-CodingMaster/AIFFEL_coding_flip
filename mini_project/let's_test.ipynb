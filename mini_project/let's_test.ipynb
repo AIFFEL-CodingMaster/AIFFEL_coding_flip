{
 "cells": [
  {
   "cell_type": "code",
   "execution_count": 8,
   "id": "taken-stopping",
   "metadata": {},
   "outputs": [
    {
     "name": "stdout",
     "output_type": "stream",
     "text": [
      "tfrecord 만들기 시작\n",
      "2021-03-17 16:06:16.935707: I tensorflow/compiler/jit/xla_cpu_device.cc:41] Not creating XLA devices, tf_xla_enable_xla_devices not set\n",
      "2021-03-17 16:06:16.936167: I tensorflow/core/platform/cpu_feature_guard.cc:142] This TensorFlow binary is optimized with oneAPI Deep Neural Network Library (oneDNN) to use the following CPU instructions in performance-critical operations:  AVX2 FMA\n",
      "To enable them in other operations, rebuild TensorFlow with the appropriate compiler flags.\n",
      "7378개의 데이터, TFRecord 완성!!!\n"
     ]
    }
   ],
   "source": [
    "!python main.py \\\n",
    "--mode=\"tfr\" \\\n",
    "--data_path=\"../images/\" \\\n",
    "--tfr_path=\"./tfrecord_data.tfr\""
   ]
  },
  {
   "cell_type": "code",
   "execution_count": null,
   "id": "chubby-amendment",
   "metadata": {},
   "outputs": [],
   "source": []
  }
 ],
 "metadata": {
  "kernelspec": {
   "display_name": "cv_env",
   "language": "python",
   "name": "cv_env"
  },
  "language_info": {
   "codemirror_mode": {
    "name": "ipython",
    "version": 3
   },
   "file_extension": ".py",
   "mimetype": "text/x-python",
   "name": "python",
   "nbconvert_exporter": "python",
   "pygments_lexer": "ipython3",
   "version": "3.7.10"
  }
 },
 "nbformat": 4,
 "nbformat_minor": 5
}
